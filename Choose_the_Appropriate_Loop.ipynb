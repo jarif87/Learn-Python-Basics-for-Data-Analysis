{
  "nbformat": 4,
  "nbformat_minor": 0,
  "metadata": {
    "colab": {
      "provenance": []
    },
    "kernelspec": {
      "name": "python3",
      "display_name": "Python 3"
    },
    "language_info": {
      "name": "python"
    }
  },
  "cells": [
    {
      "cell_type": "markdown",
      "source": [
        "Imagine that you have a block of code that you want to repeat several times in succession. You can of course store it in a function and call this function as many times as necessary. This would work, but it would be a bit like killing a fly with a bazooka: it works, but it is not necessarily the most optimal solution. Especially since, generally, we do not necessarily know in advance how many times we will need to repeat the said block of code.\n",
        "\n",
        "Loops solve this problem! In programming, a loop is a structure that lets you repeat one or more statements, without having to rewrite them each time. There are two types of loops (for and while), which will be explained shortly."
      ],
      "metadata": {
        "id": "dq0xa53eIIwN"
      }
    },
    {
      "cell_type": "markdown",
      "source": [
        "# Loop a Set Number of Times With the for Loop"
      ],
      "metadata": {
        "id": "Axds6HzjIdBI"
      }
    },
    {
      "cell_type": "markdown",
      "source": [
        "## The for Loop on a Collection\n",
        "\n",
        "The conventional use of loops in Python is to directly use the different values of a collection. Here is an example with a list:"
      ],
      "metadata": {
        "id": "wYUpDWqmIh2V"
      }
    },
    {
      "cell_type": "markdown",
      "source": [
        "![](https://user.oc-static.com/upload/2022/09/15/16632604797162_image36.png)"
      ],
      "metadata": {
        "id": "dPpSwX9sIkzD"
      }
    },
    {
      "cell_type": "markdown",
      "source": [
        "he printed result corresponds to each item in the list taken one by one. Let's take a detailed look at what has been achieved in the above code:\n",
        "\n",
        "* You have created a list:   myList, containing four items: 7, 2, 4, and 10.\n",
        "\n",
        "* The loop will store the first value of the list (in this case 7) in the   elt  variable.\n",
        "\n",
        "* Then, the whole block of code associated with the for loop (defined via indentation... again!) is run with   elt  holding the first value. Here, this block just involves printing   elt.\n",
        "\n",
        "* Once this is done,   elt  will take the second value of the list (in this case 2) and the block of code is re-run.\n",
        "\n",
        "* The loop will continue until all the values in your list have been stored in the    elt  variable and the statements for the loop have been executed for each of them."
      ],
      "metadata": {
        "id": "tqYP50xJIsaU"
      }
    },
    {
      "cell_type": "markdown",
      "source": [
        "![](https://user.oc-static.com/upload/2022/10/10/16653866064087_P3C1-1.png)"
      ],
      "metadata": {
        "id": "zeA2xGsUI3W5"
      }
    },
    {
      "cell_type": "code",
      "execution_count": 1,
      "metadata": {
        "colab": {
          "base_uri": "https://localhost:8080/"
        },
        "id": "xZVOfpu5HHH3",
        "outputId": "fc428f74-5e84-4b80-bd3b-fd4290785ca6"
      },
      "outputs": [
        {
          "output_type": "stream",
          "name": "stdout",
          "text": [
            "I\n",
            "t\n",
            "e\n",
            "m\n",
            "s\n"
          ]
        }
      ],
      "source": [
        "myString = \"Items\"\n",
        "\n",
        "for elt in myString:\n",
        "    print(elt)"
      ]
    },
    {
      "cell_type": "markdown",
      "source": [
        "The for Loop via an Iterative Integer Value\n",
        "\n",
        "Quite often, you will find that you simply need to loop over a range of integer values, e.g. 0, 1, 2, 3….  This is the conventional loop you see most often in languages like Javascript or C++.  Because Python wants to loop over a collection, you need to create a collection containing your range of integer values.\n",
        "\n",
        "To do this, you will use the   range(start, stop, step)  function, which will generate a collection of numbers according to three parameters:\n",
        "\n",
        "* start : the first number of the sequence.\n",
        "\n",
        "* stop  corresponds to the last number of the sequence, non-inclusive. The function will generate numbers from   start  to   stop-1.\n",
        "\n",
        "* step :  the step between each generated number.\n",
        "\n",
        "Not all parameters are necessary. For example:\n",
        "\n",
        "for i in range(0, 5, 1):"
      ],
      "metadata": {
        "id": "txzpXQ3yJAZN"
      }
    },
    {
      "cell_type": "code",
      "source": [
        "for i in range(0, 5, 1):\n",
        "    print(i) # -> print from 0 to 4 by steps of 1 (end - 1)\n",
        "\n",
        "for i in range(0, 5):\n",
        "    print(i) # -> prints from 0 to 4 also (default step is 1)\n",
        "\n",
        "for i in range(5):\n",
        "    print(i) # -> prints from 0 to 4 also (default start is 0)\n",
        "\n",
        "for i in range(0, 5, 2):\n",
        "    print(i) # -> print 0, 2 then 4"
      ],
      "metadata": {
        "colab": {
          "base_uri": "https://localhost:8080/"
        },
        "id": "5S-km9ONJNcD",
        "outputId": "cc905669-e3f9-4f33-98f6-99551199e0e4"
      },
      "execution_count": 2,
      "outputs": [
        {
          "output_type": "stream",
          "name": "stdout",
          "text": [
            "0\n",
            "1\n",
            "2\n",
            "3\n",
            "4\n",
            "0\n",
            "1\n",
            "2\n",
            "3\n",
            "4\n",
            "0\n",
            "1\n",
            "2\n",
            "3\n",
            "4\n",
            "0\n",
            "2\n",
            "4\n"
          ]
        }
      ]
    },
    {
      "cell_type": "markdown",
      "source": [
        "The for loop is perfectly suited when you have to perform an action a certain number of times known in advance or an action for each item of a collection. For all other cases, we can make a conditional loop: a loop that does not iterate through a collection, but according to a condition."
      ],
      "metadata": {
        "id": "1cBfFgJsJXDf"
      }
    },
    {
      "cell_type": "markdown",
      "source": [
        "# Loop According to a Condition with the while Loop: "
      ],
      "metadata": {
        "id": "ilFKHUdRJdag"
      }
    },
    {
      "cell_type": "markdown",
      "source": [
        "The conditional loop is the while loop in Python.\n",
        "\n",
        "As its name implies, the while loop will run as long as a condition is met. It is a kind of combination of a for loop and an if structure. The number of repetitions is not defined in advance, but via a condition to be fulfilled, as with an if. This is called a conditional loop."
      ],
      "metadata": {
        "id": "35YfZW-PJj3A"
      }
    },
    {
      "cell_type": "markdown",
      "source": [
        "t can be interpreted as: as long as my logical expression is true, run the statement block.\n",
        "\n",
        "Here's how it works:\n",
        "\n",
        "The program checks that   expressionLogic  is equal to   True.\n",
        "\n",
        "If this is the case, the indented statements following the   :   are run. Once this is done, we return to step one.\n",
        "\n",
        "Otherwise, the program exits the loop without running the statements.\n",
        "\n",
        "Try the example below:"
      ],
      "metadata": {
        "id": "bKS06D02JmzE"
      }
    },
    {
      "cell_type": "code",
      "source": [
        "numberTrees = 0\n",
        "\n",
        "while numberTrees < 10:\n",
        "    numberTrees += 1\n",
        "    print(\"I planted\", numberTrees, \"trees\")\n",
        "\n",
        "print(\"I have a nice forest!\")"
      ],
      "metadata": {
        "colab": {
          "base_uri": "https://localhost:8080/"
        },
        "id": "DUTW3TliJQio",
        "outputId": "a33c34f7-c6ab-48f6-b2a6-074aadfd640b"
      },
      "execution_count": 5,
      "outputs": [
        {
          "output_type": "stream",
          "name": "stdout",
          "text": [
            "I planted 1 trees\n",
            "I planted 2 trees\n",
            "I planted 3 trees\n",
            "I planted 4 trees\n",
            "I planted 5 trees\n",
            "I planted 6 trees\n",
            "I planted 7 trees\n",
            "I planted 8 trees\n",
            "I planted 9 trees\n",
            "I planted 10 trees\n",
            "I have a nice forest!\n"
          ]
        }
      ]
    },
    {
      "cell_type": "markdown",
      "source": [
        "With each iteration, the   numberTrees  is incremented by one. When the variable reaches the value 10, the expression   numberTrees < 10  is no longer true! At this point, the loop ends and continues running the rest of the program in order. In this specific case, it prints: \"I have a cool forest!\""
      ],
      "metadata": {
        "id": "1eVS89aVKAhB"
      }
    },
    {
      "cell_type": "code",
      "source": [
        "# theSunIsShining = True\n",
        "\n",
        "# while theSunIsShining:\n",
        "#     print(\"Stay awake... forever!\")\n",
        "#     # the theSunIsShining never changes, so the condition is always true\n",
        "\n",
        "# # so we never reach this line\n",
        "# print(\"Time to go to sleep!\")"
      ],
      "metadata": {
        "id": "3BW9-C03KDve"
      },
      "execution_count": 7,
      "outputs": []
    }
  ]
}