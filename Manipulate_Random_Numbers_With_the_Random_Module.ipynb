{
  "nbformat": 4,
  "nbformat_minor": 0,
  "metadata": {
    "colab": {
      "provenance": []
    },
    "kernelspec": {
      "name": "python3",
      "display_name": "Python 3"
    },
    "language_info": {
      "name": "python"
    }
  },
  "cells": [
    {
      "cell_type": "markdown",
      "source": [
        "The ability to generate random numbers is extremely useful for all sorts of programming tasks, from a simple simulation of a dice roll to selecting data for data analysis activities. In Python, the random module contains several functions for generating random numbers or sequences of numbers."
      ],
      "metadata": {
        "id": "E3xG0aySTgLD"
      }
    },
    {
      "cell_type": "markdown",
      "source": [
        "#Generate Random Numbers"
      ],
      "metadata": {
        "id": "62TNzohnTlre"
      }
    },
    {
      "cell_type": "code",
      "execution_count": 2,
      "metadata": {
        "id": "rUNek6K2THdl"
      },
      "outputs": [],
      "source": [
        "import random"
      ]
    },
    {
      "cell_type": "markdown",
      "source": [
        "![](https://user.oc-static.com/upload/2022/09/19/1663594511795_image18.png)"
      ],
      "metadata": {
        "id": "2mQriwtaT1kh"
      }
    },
    {
      "cell_type": "code",
      "source": [
        "for i in range(4):\n",
        "    print(random.random())"
      ],
      "metadata": {
        "id": "j3nMDewST_2p",
        "colab": {
          "base_uri": "https://localhost:8080/"
        },
        "outputId": "8c218498-fe51-4951-a636-3a4f8f4a6be1"
      },
      "execution_count": 3,
      "outputs": [
        {
          "output_type": "stream",
          "name": "stdout",
          "text": [
            "0.9069557859520776\n",
            "0.903090464011128\n",
            "0.7476358264128301\n",
            "0.2554383004167138\n"
          ]
        }
      ]
    },
    {
      "cell_type": "markdown",
      "source": [
        "Absolutely! But the people who created the random package fortunately thought of everything. There are other functions that let you generate a random number in a given range:\n",
        "\n",
        "uniform(a, b) : will generate a random float between   a  and  b .\n",
        "\n",
        "randint(a, b) : as its name suggests, this one is similar to   uniform  except that the random number generated is an integer this time!\n",
        "\n"
      ],
      "metadata": {
        "id": "Qp87Ir3ccy65"
      }
    },
    {
      "cell_type": "markdown",
      "source": [
        "![](https://user.oc-static.com/upload/2022/09/19/16635946138358_image7.png)"
      ],
      "metadata": {
        "id": "GUm30J-cc1OJ"
      }
    },
    {
      "cell_type": "markdown",
      "source": [
        "# Generate a Random Number According to a Given Distribution"
      ],
      "metadata": {
        "id": "NHsEp3eudAHQ"
      }
    },
    {
      "cell_type": "markdown",
      "source": [
        "The random module can also generate a random number according to a distribution. One of the best known is the Gaussian (or normal) distribution. If you don't know it already, let me introduce you to it!\n",
        "\n",
        "The normal law is one of the most suitable probability laws to model natural phenomena resulting from several random events. These are all phenomena where the majority of individuals are around an average, with decreasing proportions below and above this average. Here is a very telling example, with the distribution of the population by IQ:"
      ],
      "metadata": {
        "id": "y2Z96PAudDsY"
      }
    },
    {
      "cell_type": "markdown",
      "source": [
        "![](https://user.oc-static.com/upload/2022/09/19/1663594647031_image19.png)"
      ],
      "metadata": {
        "id": "KUCyaeCedGJf"
      }
    },
    {
      "cell_type": "markdown",
      "source": [
        "The random module lets you generate random numbers according to this law: i.e., you are much more likely to have values close to the average (with the example above, between 85 and 115) than extreme values (close to 70 or 130). The corresponding function is called   gauss(mean, standard_deviation) .\n",
        "\n",
        "Here is an example with a distribution centered at 0 and with a standard deviation of 1 (which is a “conventional” normal distribution):"
      ],
      "metadata": {
        "id": "npJnRA1zdKIi"
      }
    },
    {
      "cell_type": "markdown",
      "source": [
        "![](https://user.oc-static.com/upload/2022/09/19/16635947204259_image20.png)"
      ],
      "metadata": {
        "id": "75dDeDx0dMcB"
      }
    },
    {
      "cell_type": "markdown",
      "source": [
        "# Choose Randomly From a List: Subsampling"
      ],
      "metadata": {
        "id": "TF2FOHe8dXyH"
      }
    },
    {
      "cell_type": "markdown",
      "source": [
        "As you already know, to select an item in a list, you have to select it via its index. If you want to select an item randomly from a list, a somewhat naive solution might be to draw the index randomly, and then use the random index to select the item. The random module goes a step further by offering a function that lets you make the selection directly from the list: the    choice  function."
      ],
      "metadata": {
        "id": "swnXjeM8dbuL"
      }
    },
    {
      "cell_type": "markdown",
      "source": [
        "![](https://user.oc-static.com/upload/2022/09/19/16635947561105_image21.png)"
      ],
      "metadata": {
        "id": "uEUMaE07deRr"
      }
    },
    {
      "cell_type": "markdown",
      "source": [
        "The evolution of this is the  choices  function, now making it possible to select a sample from the initial list, with replacement:"
      ],
      "metadata": {
        "id": "HQipxvJXdrod"
      }
    },
    {
      "cell_type": "markdown",
      "source": [
        "![](https://user.oc-static.com/upload/2022/09/19/16635948215017_image22.png)"
      ],
      "metadata": {
        "id": "Fr8COQ6nducZ"
      }
    },
    {
      "cell_type": "markdown",
      "source": [
        "Note how, in the second line, we get “two” returned twice, because the first “two” was effectively put back into the list once it was initially drawn.\n",
        "\n",
        "This is called subsampling. The corresponding function, for a sample without replacement, is sample :"
      ],
      "metadata": {
        "id": "tBLM4uOTeADS"
      }
    },
    {
      "cell_type": "markdown",
      "source": [
        "![](https://user.oc-static.com/upload/2022/09/19/16635948394185_image23.png)"
      ],
      "metadata": {
        "id": "UwU4zcKoekLh"
      }
    },
    {
      "cell_type": "code",
      "source": [
        "list0=[1,2,3,4,5,6,7,8,9]\n",
        "print(\"Random Choice :\",random.choices(list0,k=4))"
      ],
      "metadata": {
        "colab": {
          "base_uri": "https://localhost:8080/"
        },
        "id": "X8XOMZYjdB3E",
        "outputId": "c48ada52-0ca1-4ac5-b8e3-80885730af1a"
      },
      "execution_count": 5,
      "outputs": [
        {
          "output_type": "stream",
          "name": "stdout",
          "text": [
            "Random Choice : [7, 5, 1, 3]\n"
          ]
        }
      ]
    },
    {
      "cell_type": "code",
      "source": [
        "print(\"Random sample\",random.sample(list0,k=3))\n",
        "print(\"Random sample\",random.sample(list0,k=4))"
      ],
      "metadata": {
        "colab": {
          "base_uri": "https://localhost:8080/"
        },
        "id": "eWfSlOtxe1hx",
        "outputId": "2dd41145-8244-45e6-8b6b-1aaa11f33937"
      },
      "execution_count": 7,
      "outputs": [
        {
          "output_type": "stream",
          "name": "stdout",
          "text": [
            "Random sample [6, 7, 1]\n",
            "Random sample [6, 7, 8, 5]\n"
          ]
        }
      ]
    },
    {
      "cell_type": "markdown",
      "source": [
        "In data analysis, this concept of subsampling is essential, as it can select a sample from an initial population. In statistics, a sample is a set of individuals representative of a population. The use of a subsample is generally a solution to a practical constraint (lack of time, space, financial cost, etc.) that does not allow an exhaustive study of the entire population."
      ],
      "metadata": {
        "id": "Se28UNxhfowB"
      }
    }
  ]
}