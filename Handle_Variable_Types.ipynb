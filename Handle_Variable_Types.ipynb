{
  "nbformat": 4,
  "nbformat_minor": 0,
  "metadata": {
    "colab": {
      "provenance": []
    },
    "kernelspec": {
      "name": "python3",
      "display_name": "Python 3"
    },
    "language_info": {
      "name": "python"
    }
  },
  "cells": [
    {
      "cell_type": "markdown",
      "source": [
        "# Understand Why We Need Variable Types"
      ],
      "metadata": {
        "id": "BUbsDC5pDK1W"
      }
    },
    {
      "cell_type": "markdown",
      "source": [
        "* You looked at different types of variables in the previous chapter, but there is much more to know about the subject!\n",
        "\n",
        "* The types encountered so far are called primitive types. They exist in Python—a bit like atoms. These are the simplest types of variables; they are the foundation of all computer operations and programs. In the same way that atoms can be combined to make more complex molecules, you can combine primitive types to create much more complex variable types, as you will see in the next parts of this course. For now, you will explore numeric types and strings in a little more depth. Let's go!"
      ],
      "metadata": {
        "id": "A_qVSZdjDTCy"
      }
    },
    {
      "cell_type": "markdown",
      "source": [
        "# Numeric Variables"
      ],
      "metadata": {
        "id": "tyTI2CA_DbZ8"
      }
    },
    {
      "cell_type": "markdown",
      "source": [
        "### Numeric variables can be broken down into two distinct types:\n",
        "\n",
        "* Integers, which correspond to the set of positive or negative integers (1, 2, 0, 123, -3, etc.)\n",
        "\n",
        "* Decimals, which, in addition to integers, include all decimal numbers (2.50, 5.99, -1.20, etc.)\n",
        "\n",
        "### Start with the one you are already familiar with: integers. Integers are declared like any other variable, by associating a value to a variable name."
      ],
      "metadata": {
        "id": "fTDU_0OjDdG9"
      }
    },
    {
      "cell_type": "code",
      "execution_count": 4,
      "metadata": {
        "id": "9xk3KTB2DFv5"
      },
      "outputs": [],
      "source": [
        "account = 10"
      ]
    },
    {
      "cell_type": "markdown",
      "source": [
        "* Here you have the value 10 associated with the variable account. 10 being an integer,  accountis automatically an integer variable (int).\n",
        "\n",
        "* For decimal numbers ,  python uses the float type. You can define it in the same way as integers, by simply adding the decimal point explicitly:"
      ],
      "metadata": {
        "id": "Z9Y4BZUmDvRg"
      }
    },
    {
      "cell_type": "code",
      "source": [
        "length = 1876.79\n",
        "width = 870.0"
      ],
      "metadata": {
        "id": "2nnhT4-9DJGh"
      },
      "execution_count": 5,
      "outputs": []
    },
    {
      "cell_type": "markdown",
      "source": [
        "* As long as the associated value is a decimal number, Python will automatically consider the variable as beingfloat. This is true even if the digit after the decimal point is a 0, as is the case above with the width variable."
      ],
      "metadata": {
        "id": "GgBaemZPD34L"
      }
    },
    {
      "cell_type": "markdown",
      "source": [
        "# Mix Several Numeric Variables"
      ],
      "metadata": {
        "id": "Vw_r2HQnD748"
      }
    },
    {
      "cell_type": "markdown",
      "source": [
        "**It is important to keep in mind how the different numeric types can be mixed together and what the potential consequences are. If you mix different types, the most complex will be the one kept for the final result. For example, an integer value can be stored as a float, as seen above with the width variable, but the opposite is not possible if there are numbers after the decimal point! The  float  is therefore the most complex type: if you mix an   int  with a   float ,  the result will always be a   float , whatever operation is performed or whatever the result is.**"
      ],
      "metadata": {
        "id": "YH_ySaKtD_XJ"
      }
    },
    {
      "cell_type": "code",
      "source": [
        "a = 7.5\n",
        "b = 3\n",
        "c = a/b\n",
        "print(c)\n",
        "# this will print 2.5, which is a float"
      ],
      "metadata": {
        "colab": {
          "base_uri": "https://localhost:8080/"
        },
        "id": "Ob3Wie3RDJJA",
        "outputId": "a0f0273b-3560-4724-a5a3-0b15bbed7c51"
      },
      "execution_count": 6,
      "outputs": [
        {
          "output_type": "stream",
          "name": "stdout",
          "text": [
            "2.5\n"
          ]
        }
      ]
    },
    {
      "cell_type": "markdown",
      "source": [
        "**If the result of an operation between two integers is supposed to be a decimal number, Python will automatically convert it to a float. Moreover, division (even if the result is supposed to be an integer) will necessarily return a float as well:**"
      ],
      "metadata": {
        "id": "fWgt-4hxETip"
      }
    },
    {
      "cell_type": "code",
      "source": [
        "a = 10\n",
        "b = 5\n",
        "c = a/b\n",
        "print(c)\n",
        "# it's a float"
      ],
      "metadata": {
        "colab": {
          "base_uri": "https://localhost:8080/"
        },
        "id": "pmbuUDM5DJMi",
        "outputId": "b1fca282-8f19-42c1-ea19-dc83f0477721"
      },
      "execution_count": 7,
      "outputs": [
        {
          "output_type": "stream",
          "name": "stdout",
          "text": [
            "2.0\n"
          ]
        }
      ]
    },
    {
      "cell_type": "markdown",
      "source": [
        "### However, you can force the conversion of a variable into a well-defined type. This is called typecasting, because by doing so you are changing (casting) the type of a variable. To do this, you will need the corresponding functions:\n",
        "\n",
        "* int() : for integers\n",
        "\n",
        "* float() : for decimals"
      ],
      "metadata": {
        "id": "dKjc5KnKDJsN"
      }
    },
    {
      "cell_type": "code",
      "source": [
        "a = 14.0\n",
        "# a is a float\n",
        "a = int(a)\n",
        "print(a)\n",
        "# a is now an integer: it prints 14 and not 14.0"
      ],
      "metadata": {
        "colab": {
          "base_uri": "https://localhost:8080/"
        },
        "id": "iYw75uz5Em37",
        "outputId": "3775f155-7db3-410a-d823-0cefc211837a"
      },
      "execution_count": 8,
      "outputs": [
        {
          "output_type": "stream",
          "name": "stdout",
          "text": [
            "14\n"
          ]
        }
      ]
    },
    {
      "cell_type": "code",
      "source": [
        "savingsAccount = 10000\n",
        "rate = 0.75\n",
        "\n",
        "interest = savingsAccount * (rate/100)\n",
        "\n",
        "print(interest)"
      ],
      "metadata": {
        "colab": {
          "base_uri": "https://localhost:8080/"
        },
        "id": "Of5YRpEsEua1",
        "outputId": "12aea187-3b13-4df4-f19c-94f5fa8e3fdd"
      },
      "execution_count": 9,
      "outputs": [
        {
          "output_type": "stream",
          "name": "stdout",
          "text": [
            "75.0\n"
          ]
        }
      ]
    },
    {
      "cell_type": "code",
      "source": [
        "interest = int(interest)\n",
        "\n",
        "print(interest)"
      ],
      "metadata": {
        "colab": {
          "base_uri": "https://localhost:8080/"
        },
        "id": "3nzKqvEqEuOV",
        "outputId": "cae83018-7519-46d9-c7e8-14f134fbdc42"
      },
      "execution_count": 10,
      "outputs": [
        {
          "output_type": "stream",
          "name": "stdout",
          "text": [
            "75\n"
          ]
        }
      ]
    },
    {
      "cell_type": "markdown",
      "source": [
        "# Character Strings"
      ],
      "metadata": {
        "id": "uXyY0kbTDJzu"
      }
    },
    {
      "cell_type": "markdown",
      "source": [
        "### You will now explore a little more about character strings, which let you store text in your variables. First, a bit of semantics: we call them character strings, because Python does not consider these variables as text, as such, but as a set of characters put together. This is how you can define character strings in Python (you can use either single or double quotes):"
      ],
      "metadata": {
        "id": "XTolOGHfE68k"
      }
    },
    {
      "cell_type": "code",
      "source": [
        "city = 'New York'\n",
        "film = 'taxi driver'\n",
        "emptyString = ''"
      ],
      "metadata": {
        "id": "2B29YEglE6c8"
      },
      "execution_count": 11,
      "outputs": []
    },
    {
      "cell_type": "code",
      "source": [
        "city = 'New York'\n",
        "film = 'taxi driver'\n",
        "emptyString = ''"
      ],
      "metadata": {
        "id": "HZ1K8SVDE5_B"
      },
      "execution_count": 12,
      "outputs": []
    },
    {
      "cell_type": "markdown",
      "source": [
        "* Character strings are   string  types in Python.\n",
        "\n",
        "* Assembling several   strings  together is one of the most common operations you will have to perform when using   strings—his operation is called concatenation. See how to do this in Python:"
      ],
      "metadata": {
        "id": "yeELD_zjFIy_"
      }
    },
    {
      "cell_type": "code",
      "source": [
        "favoriteCityOne = \"San Francisco\"\n",
        "favoriteCityTwo = \"New York\"\n",
        "favorites = favoriteCityOne + favoriteCityTwo\n",
        "print(favorites) # => \"San FranciscoNew York\""
      ],
      "metadata": {
        "colab": {
          "base_uri": "https://localhost:8080/"
        },
        "id": "RC9wYUr7FQGt",
        "outputId": "48b9ba67-2ff0-4f5c-d8cd-5e15af5b5913"
      },
      "execution_count": 13,
      "outputs": [
        {
          "output_type": "stream",
          "name": "stdout",
          "text": [
            "San FranciscoNew York\n"
          ]
        }
      ]
    },
    {
      "cell_type": "markdown",
      "source": [
        "* Note that there is no space between the two. Make your code more readable by concatenating your variables with other strings:"
      ],
      "metadata": {
        "id": "8HfF2Nm6FXp6"
      }
    },
    {
      "cell_type": "code",
      "source": [
        "favoriteCityOne = \"San Francisco\"\n",
        "favoriteCityTwo = \"New York\"\n",
        "favorites = \"My favorite cities are \" + favoriteCityOne + \" and \"+ favoriteCityTwo\n",
        "print(favorites) # -> \"My favorite cities are San Francisco and New York\""
      ],
      "metadata": {
        "colab": {
          "base_uri": "https://localhost:8080/"
        },
        "id": "6MF5jkYiFTMi",
        "outputId": "fedfef87-eaf4-41be-ab4d-8f17a866684d"
      },
      "execution_count": 14,
      "outputs": [
        {
          "output_type": "stream",
          "name": "stdout",
          "text": [
            "My favorite cities are San Francisco and New York\n"
          ]
        }
      ]
    },
    {
      "cell_type": "markdown",
      "source": [
        "* It's much better this way, isn't it? However, you cannot concatenate other types of variables with strings, such as numeric variables---this would return an error. To remedy this, you will need to cast your numeric variable to a string, via the  str()  function:"
      ],
      "metadata": {
        "id": "MiHfg_SvFmdZ"
      }
    },
    {
      "cell_type": "code",
      "source": [
        "city = \"Sydney\"\n",
        "numberTrips = 5\n",
        "history = \"I've been to \" + city + \" \" + str(numberTrips) + \" times \"\n",
        "print(history) # => \"I've been to Sydney 5 times\""
      ],
      "metadata": {
        "colab": {
          "base_uri": "https://localhost:8080/"
        },
        "id": "ejRAczf2FS_9",
        "outputId": "d980220f-407a-48ed-9766-6b28ccf4647b"
      },
      "execution_count": 15,
      "outputs": [
        {
          "output_type": "stream",
          "name": "stdout",
          "text": [
            "I've been to Sydney 5 times \n"
          ]
        }
      ]
    }
  ]
}