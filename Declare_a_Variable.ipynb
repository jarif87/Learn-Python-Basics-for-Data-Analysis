{
  "nbformat": 4,
  "nbformat_minor": 0,
  "metadata": {
    "colab": {
      "provenance": []
    },
    "kernelspec": {
      "name": "python3",
      "display_name": "Python 3"
    },
    "language_info": {
      "name": "python"
    }
  },
  "cells": [
    {
      "cell_type": "markdown",
      "source": [
        "# Understand What a Variable is"
      ],
      "metadata": {
        "id": "JfTXnCOlTWkj"
      }
    },
    {
      "cell_type": "markdown",
      "source": [
        "* Variables are one of the concepts found in all programming languages. You might as well say that without a variable, you can't program, and that's not an exaggeration.\n",
        "\n",
        "* As mentioned in the video, think of a variable as a kind of box containing a value. This box is itself stored on a shelf among many others, in a gigantic warehouse. The location of each box is very precisely recorded, just as your computer records the exact location of your variable in its memory."
      ],
      "metadata": {
        "id": "l2X82DRHTeoJ"
      }
    },
    {
      "cell_type": "markdown",
      "source": [
        "![](https://user.oc-static.com/upload/2022/09/15/16632492647896_image29.jpg)"
      ],
      "metadata": {
        "id": "GdidkSEWTlUd"
      }
    },
    {
      "cell_type": "markdown",
      "source": [
        "* A value is what you will store in a variable. To return to the warehouse analogy, there are several boxes for storing different values. For example, if you work in a bank, you might want to store information about a customer in different boxes, such as their checking account balance and their savings account balance. We will also need to perform different operations on these boxes like emptying them, adding money, transferring the contents from one to another, etc. Variables will let you do this!\n",
        "\n",
        "* To get to the contents of each box, you will need to label them. The process is similar in programming: each variable is given a name."
      ],
      "metadata": {
        "id": "6SnGUl1WTtLX"
      }
    },
    {
      "cell_type": "markdown",
      "source": [
        "![](https://user.oc-static.com/upload/2022/09/15/16632492834058_image30.jpg)"
      ],
      "metadata": {
        "id": "_PtPkhyiT2eF"
      }
    },
    {
      "cell_type": "markdown",
      "source": [
        "* In the same way as with box labeling, the name of a variable must always represent its contents. Here are some general recommendations for choosing names for your variables:\n",
        "\n",
        "### Use clear variable names\n",
        "\n",
        "* It sounds tedious to do, but it is really beneficial for you and the people you will share your code with—it makes it easier to read and maintain your code. For example,  savingsAccount  and   checkingAccount   are much more explicit names than   account1  and   account2 .\n",
        "\n",
        "### Use explicit variable names\n",
        "\n",
        "* Avoid abbreviations and acronyms, if possible, even if an abbreviation may seem obvious. For example,   annualIncome  is better than   annualInc .\n",
        "\n",
        "### Follow a typographic convention\n",
        "\n",
        "* One of the most common typographic conventions is called camel case (also known as camel caps). It involves writing variable names containing several words without spaces or punctuation—the first word is written in lowercase, then each word is written with the first letter in upper case, as shown above."
      ],
      "metadata": {
        "id": "p6fj1t1wT9Xq"
      }
    },
    {
      "cell_type": "markdown",
      "source": [
        "# Create a Variable"
      ],
      "metadata": {
        "id": "tUb24ww2UWB-"
      }
    },
    {
      "cell_type": "markdown",
      "source": [
        "* you can use it, you have to create your variable! You just have to associate a value with a name to create a variable; Python takes care of creating the right size ‘box’. Convenient, isn't it?\n",
        "\n",
        "* There are several types of variables in Python, much like in the physical world: text, numeric values, arrays, etc. Numeric variables are declared by associating a name with a numeric value. For example:"
      ],
      "metadata": {
        "id": "VZFN1p3uUZqz"
      }
    },
    {
      "cell_type": "code",
      "source": [
        "checkingAccount = 500\n",
        "savingsAccount = 1000"
      ],
      "metadata": {
        "id": "fLy-Kwo9Ts0a"
      },
      "execution_count": 1,
      "outputs": []
    },
    {
      "cell_type": "markdown",
      "source": [
        "* You have declared two variables here,  checkingAccount  and   savingsAccount  by storing the values 500 and 1,000, respectively.\n",
        "\n",
        "* You have only used integers here! But it is quite possible to store decimal numbers."
      ],
      "metadata": {
        "id": "_tBrwCVgUmGs"
      }
    },
    {
      "cell_type": "markdown",
      "source": [
        "* If you store a new value in an existing variable, the type of the variable will change according to the new value. "
      ],
      "metadata": {
        "id": "cw4SSM1UUuly"
      }
    },
    {
      "cell_type": "markdown",
      "source": [
        "# Understand Operations Between Variables"
      ],
      "metadata": {
        "id": "V1mBab87U6tT"
      }
    },
    {
      "cell_type": "markdown",
      "source": [
        "* As the name suggests, a variable can vary, or rather the value of a variable can change. You can do this through different operations. Considering the two variables previously declared in the last example, you could:\n",
        "\n"
      ],
      "metadata": {
        "id": "HVf-MqzmU_lx"
      }
    },
    {
      "cell_type": "markdown",
      "source": [
        "* add some money to your savings account.\n",
        "\n",
        "* withdraw some from your checking account.\n",
        "\n",
        "* calculate how long it would take you to reach $5,000 if you save $500 every month.\n",
        "\n",
        "* calculate how much would be in your checking account if you added $30 every day for a week.\n",
        "\n",
        "* calculate how much would be in your checking account if you spent $10 every day.etc"
      ],
      "metadata": {
        "id": "a0qPFYeHVFwH"
      }
    },
    {
      "cell_type": "markdown",
      "source": [
        "### In short, these are concrete problems that can be solved with Python. Each operation will use arithmetic operators:"
      ],
      "metadata": {
        "id": "jVCtjSq3VTmM"
      }
    },
    {
      "cell_type": "markdown",
      "source": [
        "*  (+) : addition\n",
        "\n",
        "*  (-) : subtraction\n",
        "\n",
        "*  (*) : multiplication\n",
        "\n",
        "*  (/) : division"
      ],
      "metadata": {
        "id": "iuEtlblmVYxr"
      }
    },
    {
      "cell_type": "markdown",
      "source": [
        "### The rules of arithmetic apply in Python, in particular the order of operations, but as in ordinary mathematics, you can use brackets to rearrange the order of the calculations. See how to do this in Python:"
      ],
      "metadata": {
        "id": "9SIylPDtVwZx"
      }
    },
    {
      "cell_type": "code",
      "execution_count": 2,
      "metadata": {
        "id": "OhqT6f2xS_l_"
      },
      "outputs": [],
      "source": [
        "# add 100 to our savings (Yeah!)\n",
        "savingsAccount = savingsAccount + 100\n",
        "\n",
        "# remove 50 from our checkingaccount (Sniff)\n",
        "checkingAccount = checkingAccount - 50\n",
        "\n",
        "# calculate the number of days to save to reach 5000\n",
        "numberDaysSave = (5000 - checkingAccount) / 500\n",
        "\n",
        "# update our checkingaccount (again) after the daily gains/losses\n",
        "checkingAccount = checkingAccount + (30 - 10) * 7"
      ]
    },
    {
      "cell_type": "markdown",
      "source": [
        "### That makes a nice piece of code, doesn't it? If you pay attention, you will notice that there are different colors in different places. This is because your code is made up of comments and expressions:"
      ],
      "metadata": {
        "id": "RvoVa6chV7Jo"
      }
    },
    {
      "cell_type": "markdown",
      "source": [
        "* Lines starting with a # are comments. They are used to document your code and help others understand it.\n",
        "\n",
        "* The other lines of code (which can run operations, declarations, etc.) are expressions. They tell the computer what to do."
      ],
      "metadata": {
        "id": "P8PBBCzZV_94"
      }
    },
    {
      "cell_type": "markdown",
      "source": [
        "## Here, each of the expressions assigns a value to a variable. The assignment operator is   ="
      ],
      "metadata": {
        "id": "cybatZKfWJzx"
      }
    },
    {
      "cell_type": "markdown",
      "source": [
        "* To the right of the assignment operator is the expression that will create/calculate a value.\n",
        "\n",
        "* To the left of the assignment operator, you write the name of the variable to which you will assign the corresponding value."
      ],
      "metadata": {
        "id": "kuqsd0I3WPwN"
      }
    },
    {
      "cell_type": "markdown",
      "source": [
        "#### To summarize, to assign a value to a variable, you write an expression. This expression is built with the name of the variable, followed by the assignment operator = and finally the value to associate.\n",
        "\n",
        "#### There are also other arithmetic operators that are a little more complex, but nevertheless useful, such as:"
      ],
      "metadata": {
        "id": "qeipqspUWU_j"
      }
    },
    {
      "cell_type": "markdown",
      "source": [
        "* % modulo : returns the remainder of the euclidean division\n",
        "\n",
        "* ** power : raises a number to a certain power\n",
        "\n",
        "* // integer division: calculates the integer division (rounded down)"
      ],
      "metadata": {
        "id": "HzUpLHQ6WmBE"
      }
    },
    {
      "cell_type": "code",
      "source": [
        "print(SavingsAccount % 500) # -> 100\n",
        "# 1100 = 500 * 2 + 100, so 1100 % 500 = remainder = 100\n",
        "\n",
        "print(9 ** 3) # -> 729, 9*9*9 = 729\n",
        "\n",
        "print(SavingsAccount // 500) # -> 2\n",
        "# 1100 = 500 * 2 + 100, so 1100 // 500 = integer division result = 2*"
      ],
      "metadata": {
        "id": "WTXa2zQRTN-F"
      },
      "execution_count": null,
      "outputs": []
    },
    {
      "cell_type": "code",
      "source": [
        "savingsAccount = 10000\n",
        "rate = 0.75"
      ],
      "metadata": {
        "id": "kJZKwCOwTOB-"
      },
      "execution_count": 4,
      "outputs": []
    },
    {
      "cell_type": "markdown",
      "source": [
        "### Create a variable `interest`, which is the amount in the savings account multiplied by the interest rate (which itself must be divided by 100, because rates are expressed as a percentage):"
      ],
      "metadata": {
        "id": "-QBbf6YnXX3n"
      }
    },
    {
      "cell_type": "code",
      "source": [
        "interest = savingsAccount * (rate/100)"
      ],
      "metadata": {
        "id": "aYsTzeIFTOGb"
      },
      "execution_count": 5,
      "outputs": []
    },
    {
      "cell_type": "code",
      "source": [
        "print(\"Your account balance was\", savingsAccount, \"€\\nYou earned\", interest, \"€ this year\")\n"
      ],
      "metadata": {
        "colab": {
          "base_uri": "https://localhost:8080/"
        },
        "id": "0oCabhmWTOJy",
        "outputId": "aaecf41b-4323-4de9-ecf0-37071d682d3d"
      },
      "execution_count": 6,
      "outputs": [
        {
          "output_type": "stream",
          "name": "stdout",
          "text": [
            "Your account balance was 10000 €\n",
            "You earned 75.0 € this year\n"
          ]
        }
      ]
    },
    {
      "cell_type": "markdown",
      "source": [
        "# Write Shorter Code with Simplified Operators"
      ],
      "metadata": {
        "id": "JD_-BEUIXrnb"
      }
    },
    {
      "cell_type": "markdown",
      "source": [
        "* When you want to change a variable by changing the initial value via a basic operator, you can use a shorter version. In other words, you can use simplified operators! For example, rather than using the expression  savingsAccount = savingsAccount + 100  to add $100 to your variable, you can use a kind of combined arithmetic/assignment operator   +="
      ],
      "metadata": {
        "id": "XBj0MC16Xvn3"
      }
    },
    {
      "cell_type": "code",
      "source": [
        "# long version\n",
        "savingsAccount = savingsAccount + 100\n",
        "\n",
        "# equivalent short version\n",
        "savingsAccount += 100"
      ],
      "metadata": {
        "id": "C-0aOyRNTOM8"
      },
      "execution_count": 7,
      "outputs": []
    },
    {
      "cell_type": "markdown",
      "source": [
        "# Naturally, there is a version for each arithmetic operator seen previously:\n",
        "\n",
        "* -=  for subtraction\n",
        "\n",
        "* *=  for multiplication\n",
        "\n",
        "* /=  for division\n",
        "\n",
        "* %=  for the remainder of the integer division etc."
      ],
      "metadata": {
        "id": "DCrv2BhJawNA"
      }
    },
    {
      "cell_type": "code",
      "source": [
        "account = 200\n",
        "savings = 3000\n",
        "    \n",
        "savings += 500\n",
        "\n",
        "print(\"Your savings are: \", savings)"
      ],
      "metadata": {
        "colab": {
          "base_uri": "https://localhost:8080/"
        },
        "id": "D39oQpSATOQC",
        "outputId": "9eed30a4-7db8-417c-dd4c-4f053f6a1421"
      },
      "execution_count": 8,
      "outputs": [
        {
          "output_type": "stream",
          "name": "stdout",
          "text": [
            "Your savings are:  3500\n"
          ]
        }
      ]
    },
    {
      "cell_type": "markdown",
      "source": [
        "# Go Beyond Arithmetic"
      ],
      "metadata": {
        "id": "xO9-91oJbUme"
      }
    },
    {
      "cell_type": "markdown",
      "source": [
        "* In the example above, all variables are used to store numerical amounts of money (integer or decimal).\n",
        "\n",
        "* Are there other types of variables other than numeric ones?\n",
        "\n",
        "* Of course! In fact, it is possible to store any type of data in a variable.\n",
        "So far, you have seen that a variable is made up of a name and a value that will automatically define its type. Yet, to return to your warehouse analogy, one can imagine that storing money, storing a book, or storing a car require different size boxes, or even containers. In Python, the storage space of a variable automatically adapts to its contents, almost by magic!\n",
        "\n",
        "* At this point, it is safe to assume that having only the ‘amount’ value stored in each of your customer's accounts will probably not be enough. We will most likely also need their name, their interest rate expressed as a percentage, their address, etc., with a new variable for each of these pieces of information. So we would need to store text in our variables."
      ],
      "metadata": {
        "id": "CmxVXLmvbeNL"
      }
    },
    {
      "cell_type": "code",
      "source": [
        "firstName = \"Benjamin\"\n",
        "interestRate = 1.5\n",
        "address = \"15 19 Bloomsbury Way, Holborn, London, WC1A 2TH\""
      ],
      "metadata": {
        "id": "r303_ftYTOl6"
      },
      "execution_count": 9,
      "outputs": []
    },
    {
      "cell_type": "markdown",
      "source": [
        "* Note that you need to use double quotes (\") to define strings—textual variables—in Python, otherwise you will get an error! You can however use single (') or double quotes to declare text variables as seen below"
      ],
      "metadata": {
        "id": "rOuDOWs2cD9P"
      }
    },
    {
      "cell_type": "code",
      "source": [
        "address = \"15 19 Bloomsbury Way, Holborn, London, WC1A 2TH\"\n",
        "# equivalent to\n",
        "address = \"15 19 Bloomsbury Way, Holborn, London, WC1A 2TH\""
      ],
      "metadata": {
        "id": "tEuPDBEbTOpA"
      },
      "execution_count": 10,
      "outputs": []
    },
    {
      "cell_type": "code",
      "source": [],
      "metadata": {
        "id": "MuAhIxLcTOsn"
      },
      "execution_count": null,
      "outputs": []
    },
    {
      "cell_type": "code",
      "source": [],
      "metadata": {
        "id": "-yhaipSmTPJC"
      },
      "execution_count": null,
      "outputs": []
    },
    {
      "cell_type": "markdown",
      "source": [],
      "metadata": {
        "id": "v_PzPYM8TVEJ"
      }
    }
  ]
}