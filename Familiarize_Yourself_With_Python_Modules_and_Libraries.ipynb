{
  "nbformat": 4,
  "nbformat_minor": 0,
  "metadata": {
    "colab": {
      "provenance": []
    },
    "kernelspec": {
      "name": "python3",
      "display_name": "Python 3"
    },
    "language_info": {
      "name": "python"
    }
  },
  "cells": [
    {
      "cell_type": "markdown",
      "source": [
        "# A Module in Python"
      ],
      "metadata": {
        "id": "4OqJJyiwMvPc"
      }
    },
    {
      "cell_type": "markdown",
      "source": [
        "A module is a Python file containing a set of predefined and operational functions, classes, and variables, which you can use as you wish in your code!\n",
        "\n",
        "For example, if you are working on a problem involving geometry, you might need:\n",
        "\n",
        "classes:\n",
        "\n",
        "Square—defined by the length of its side\n",
        "\n",
        "Triangle—defined by the length of its three sides\n",
        "\n",
        "Circle—defined by its radius\n",
        "\n",
        "Etc.\n",
        "\n",
        "variables:\n",
        "\n",
        "Pi: constant necessary for calculating the area of a circle, equal to 3.1415...\n",
        "\n",
        "Phi: constant that represents the golden ratio, equal to 1.6180...\n",
        "\n",
        "functions:\n",
        "\n",
        "Area: takes as parameter a geometrical object (square, triangle, etc.) and calculates its area\n",
        "\n",
        "Angles: takes a triangle as a parameter, and calculates its internal angles\n",
        "\n",
        "Etc.\n",
        "\n",
        "You can of course define all these things in your notebook, but that would only make it more cumbersome. The best is to store all this in an external Python file, which you will then import into your notebook: it's a module!"
      ],
      "metadata": {
        "id": "hFYyzn_eNWfq"
      }
    },
    {
      "cell_type": "markdown",
      "source": [
        "![](https://user.oc-static.com/upload/2022/10/10/16653867823027_P4C1-1.png)"
      ],
      "metadata": {
        "id": "S_mi2_ziNdl_"
      }
    },
    {
      "cell_type": "code",
      "execution_count": 1,
      "metadata": {
        "id": "iiUlU0t081vR"
      },
      "outputs": [],
      "source": [
        "'''\n",
        "Module geometry.py\n",
        "'''\n",
        "# variables\n",
        "pi = 3.14159265359\n",
        "phi = 1.6180\n",
        "\n",
        "# function that calculates the area\n",
        "def area(obj):\n",
        "    if type(obj) == square:\n",
        "        return obj.a**2\n",
        "\n",
        "# definitions of some classes\n",
        "class square(object):\n",
        "    def __init__(self,a):\n",
        "        self.a = a\n",
        "\n",
        "class triangle(object):\n",
        "    def __init__(self,a,b,c):\n",
        "        self.a = a\n",
        "        self.b = b\n",
        "        self.c = c"
      ]
    },
    {
      "cell_type": "code",
      "source": [
        "# !pip install geometry\n",
        "# import geometry\n",
        "# # !pip uninstall geometry"
      ],
      "metadata": {
        "id": "3XZJa1h4Nx4n"
      },
      "execution_count": 8,
      "outputs": []
    },
    {
      "cell_type": "code",
      "source": [
        "# squa = geometry.square(4)\n",
        "# tri = geometry.triangle(3, 6, 5)\n",
        "\n",
        "# print(geometry.pi) # -> 3.14159265359\n",
        "\n",
        "# geometry.area(squa) # -> 16"
      ],
      "metadata": {
        "id": "rU4F8fDAN1VE"
      },
      "execution_count": 9,
      "outputs": []
    },
    {
      "cell_type": "markdown",
      "source": [
        "All items included in the geometry module can be used via the   moduleName.  notation, i.e.,  moduleName.function()  or   moduleName.variable. So, in the above example, we can use  geometry.area()  or  geometry.pi. If you don't want to rewrite geometry every time, you have two other options:\n",
        "\n",
        "Either give an alias to the name of your module, so you only have to write the alias:"
      ],
      "metadata": {
        "id": "_ZgR1J3fPI9K"
      }
    },
    {
      "cell_type": "code",
      "source": [
        "# import geometry as geo # we can now access geo.area() or geo.pi"
      ],
      "metadata": {
        "id": "g0sy1asePKOR"
      },
      "execution_count": 11,
      "outputs": []
    },
    {
      "cell_type": "markdown",
      "source": [
        "# When a Module is Not Enough: Packages"
      ],
      "metadata": {
        "id": "TzgAk7zWPZL-"
      }
    },
    {
      "cell_type": "markdown",
      "source": [
        "A package (sometimes called a library) is a collection, a set of Python modules. As you have seen above, a module is a Python file. A package is simply a folder containing several Python files (.py) and an additional file named   __init__.py. This differentiates a package from an ordinary folder containing only Python codes.\n",
        "\n",
        "For example, you could have stored your geometry module in three different files instead of just one:\n",
        "\n",
        "One for classes: classes.py\n",
        "\n",
        "One for variables: variables.py\n",
        "\n",
        "One for functions: functions.py\n",
        "\n",
        "In this case, we would have the following file:"
      ],
      "metadata": {
        "id": "iI8Z3y17Pc48"
      }
    },
    {
      "cell_type": "markdown",
      "source": [
        "![](https://user.oc-static.com/upload/2022/10/10/16653868316963_P4C1-2.png)"
      ],
      "metadata": {
        "id": "iAKb_Er8PeGW"
      }
    },
    {
      "cell_type": "code",
      "source": [
        "# import geometry # import all the geometry package\n",
        "\n",
        "# print(geometry.variables.pi) # -> 3.1415...\n",
        "# squa = geometry.classes.square(4)\n",
        "# geometry.functions.area(squa) # -> 16"
      ],
      "metadata": {
        "id": "IcE0zQWfPks8"
      },
      "execution_count": 13,
      "outputs": []
    },
    {
      "cell_type": "code",
      "source": [
        "# import geometry.variables as var # import only what is defined in variables.py\n",
        "\n",
        "# print(var.pi) # -> 3.1415..."
      ],
      "metadata": {
        "id": "j_On47nOPkiW"
      },
      "execution_count": 14,
      "outputs": []
    },
    {
      "cell_type": "markdown",
      "source": [
        "# Packages in Data Analysis"
      ],
      "metadata": {
        "id": "NsdpRsrkPvkz"
      }
    },
    {
      "cell_type": "markdown",
      "source": [
        "Packages are ubiquitous in data analysis with Python. Indeed, many packages have been created specifically to address the issues that this subject involves. As you progress, you will be required to:\n",
        "\n",
        "manipulate your data to facilitate analysis.\n",
        "\n",
        "make various relevant graphs representing the behavior of your data.\n",
        "\n",
        "use statistical methods.\n",
        "\n",
        "run machine learning algorithms of varying complexity.\n",
        "\n",
        "etc.\n",
        "\n",
        "And to achieve all this, you will need to master the various objects and functions from the corresponding packages."
      ],
      "metadata": {
        "id": "82phGcJqP0iV"
      }
    },
    {
      "cell_type": "code",
      "source": [
        "import numpy as np\n",
        "np.sqrt(16) # -> 4.0"
      ],
      "metadata": {
        "colab": {
          "base_uri": "https://localhost:8080/"
        },
        "id": "Ds2kDfkKPxjb",
        "outputId": "baa8f9c9-6fa1-4e61-b554-af6671230c5e"
      },
      "execution_count": 15,
      "outputs": [
        {
          "output_type": "execute_result",
          "data": {
            "text/plain": [
              "4.0"
            ]
          },
          "metadata": {},
          "execution_count": 15
        }
      ]
    },
    {
      "cell_type": "markdown",
      "source": [
        "In order to solidify the concept of packages, we will look at a concrete example of the use of therandom package in the next chapter."
      ],
      "metadata": {
        "id": "NhfgclIPP7i0"
      }
    }
  ]
}