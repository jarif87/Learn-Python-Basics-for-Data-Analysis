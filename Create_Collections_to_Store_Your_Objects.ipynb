{
  "nbformat": 4,
  "nbformat_minor": 0,
  "metadata": {
    "colab": {
      "provenance": []
    },
    "kernelspec": {
      "name": "python3",
      "display_name": "Python 3"
    },
    "language_info": {
      "name": "python"
    }
  },
  "cells": [
    {
      "cell_type": "markdown",
      "source": [
        "Imagine again that you work in a bank. What you saw in part two was fine for treating each customer individually, but in reality, there's more than just one customer to analyze.\n",
        "\n",
        "If you want to analyze several customers at once, you can imagine that you need a variable for each customer. For the names, this could look like this:"
      ],
      "metadata": {
        "id": "_1CnWmkj88y8"
      }
    },
    {
      "cell_type": "code",
      "execution_count": null,
      "metadata": {
        "id": "AIHRlx3B8pAf"
      },
      "outputs": [],
      "source": [
        "customerName1 = 'Marion Weaver'\n",
        "customerName2 = 'Alberto Mendoza'\n",
        "customerName3 = 'Katharine Tyler'\n",
        "customerName4 = 'Isaac Steele'\n",
        "# etc."
      ]
    },
    {
      "cell_type": "markdown",
      "source": [
        "If you have 10 customers to analyze, wouldn't it be easier to store them all in a single variable that would contain all the information?\n",
        "\n",
        "You're in luck! Python offers a structure, a class capable of storing multiple pieces of information as a kind of array. This structure is called a list. Let's see how to use it."
      ],
      "metadata": {
        "id": "dgNGgGw79B-F"
      }
    },
    {
      "cell_type": "markdown",
      "source": [
        "# Declare a List to Store Your Items"
      ],
      "metadata": {
        "id": "tdNWXaiK9IdL"
      }
    },
    {
      "cell_type": "markdown",
      "source": [
        "Lists are objects that can contain a collection of objects of any type.  We can have a list containing several integers (1, 2, 50, 2,000 or more, it doesn't matter), a list containing floats, a list containing strings, or even a list mixing objects of different types.\n",
        "\n",
        "Lists are ordered objects, i.e., each item of the list is associated with a number corresponding to its order in the list. This number is called an index and it starts at 0 (not 1!). The first item is therefore associated with index 0, the second with index 1, etc.\n",
        "\n",
        "Declaring a list is quite similar to the declaration of any variable seen so far: via a name to which we associate a list of items to be stored in this name."
      ],
      "metadata": {
        "id": "_VYIaQpa9Kwh"
      }
    },
    {
      "cell_type": "code",
      "source": [
        "customerName = ['Marion Weaver', 'Alberto Mendoza', 'Katharine Tyler', 'Isaac Steele']"
      ],
      "metadata": {
        "id": "trMhR__G9FZB"
      },
      "execution_count": null,
      "outputs": []
    },
    {
      "cell_type": "markdown",
      "source": [
        "Now that your list is created, you can perform two basic operations:\n",
        "\n",
        "Access a value at a given index\n",
        "\n",
        "Change the value at a given index\n",
        "\n",
        "In both cases, the code consists of the name of the variable followed by  [, the value of the index and  ]."
      ],
      "metadata": {
        "id": "DLMY7jlK9TB3"
      }
    },
    {
      "cell_type": "markdown",
      "source": [
        "# For example, if you made a mistake on the name of the first customer and you want to correct their name:"
      ],
      "metadata": {
        "id": "lp-XCLIZ9S22"
      }
    },
    {
      "cell_type": "code",
      "source": [
        "# assign the value 'Marianne Weaver' to the first name in our list\n",
        "# it is index 0, because indices start at 0 in python!\n",
        "customerName[0] = 'Marianne Weaver'\n",
        "print(customerName[0])"
      ],
      "metadata": {
        "colab": {
          "base_uri": "https://localhost:8080/"
        },
        "id": "WK56SGxo9bDi",
        "outputId": "c342d2f7-cd7c-49c2-cb97-c5a951d1c7fb"
      },
      "execution_count": null,
      "outputs": [
        {
          "output_type": "stream",
          "name": "stdout",
          "text": [
            "Marianne Weaver\n"
          ]
        }
      ]
    },
    {
      "cell_type": "markdown",
      "source": [
        "Python also lets you use negative indices to access or modify an item. The index -1 corresponds to the last item of the list, -2 to the second last, and so on. You can also access an index range by using the  :  operator. For example, 1:3 will let you access items two to four."
      ],
      "metadata": {
        "id": "815ZQKLu9kT_"
      }
    },
    {
      "cell_type": "code",
      "source": [
        "# print the last item\n",
        "print(customerName[-1])\n",
        "\n",
        "# access the second item to the 3rd\n",
        "print(customerName[1:3])\n",
        "\n",
        "# access all items from the beginning to the second\n",
        "print(customerName[:2])"
      ],
      "metadata": {
        "colab": {
          "base_uri": "https://localhost:8080/"
        },
        "id": "WxZO55dd9lgA",
        "outputId": "24312315-8955-4903-9f26-9464db65c569"
      },
      "execution_count": null,
      "outputs": [
        {
          "output_type": "stream",
          "name": "stdout",
          "text": [
            "Isaac Steele\n",
            "['Alberto Mendoza', 'Katharine Tyler']\n",
            "['Marianne Weaver', 'Alberto Mendoza']\n"
          ]
        }
      ]
    },
    {
      "cell_type": "markdown",
      "source": [
        "Here you have manipulated lists of strings, but you can do the same thing with the amount in each individual's account:"
      ],
      "metadata": {
        "id": "QAaSNV5H9sbP"
      }
    },
    {
      "cell_type": "code",
      "source": [
        "amountAccount = [10000, 150, 300, 1800.74]"
      ],
      "metadata": {
        "id": "8H224rGu9vrI"
      },
      "execution_count": null,
      "outputs": []
    },
    {
      "cell_type": "code",
      "source": [
        "strangeList = [4, 10.2, 'Marion Weaver', ['another list', 1]]\n",
        "\n",
        "# print the 4th item of the list\n",
        "print(strangeList[3])"
      ],
      "metadata": {
        "colab": {
          "base_uri": "https://localhost:8080/"
        },
        "id": "vTR-wYZt94fq",
        "outputId": "e45d868b-622f-4629-f858-768bdc7b79e3"
      },
      "execution_count": null,
      "outputs": [
        {
          "output_type": "stream",
          "name": "stdout",
          "text": [
            "['another list', 1]\n"
          ]
        }
      ]
    },
    {
      "cell_type": "markdown",
      "source": [
        "# List Methods"
      ],
      "metadata": {
        "id": "tl3vBnNr-LRI"
      }
    },
    {
      "cell_type": "code",
      "source": [
        "list = []\n",
        "list.append(7)\n",
        "list.append(5)\n",
        "print(list) # => [7, 5]"
      ],
      "metadata": {
        "colab": {
          "base_uri": "https://localhost:8080/"
        },
        "id": "tDAQcfPB-Qcx",
        "outputId": "8f0321e5-e9d2-4417-b008-3d86051cbcea"
      },
      "execution_count": null,
      "outputs": [
        {
          "output_type": "stream",
          "name": "stdout",
          "text": [
            "[7, 5]\n"
          ]
        }
      ]
    },
    {
      "cell_type": "markdown",
      "source": [
        "Here are some other methods that are essential to know about lists:\n",
        "\n",
        "insert  to insert a new item at a specific position. For example,   list.insert(1, 12)  will insert the integer 12 at index 1, moving the old item 1 to index 2 and so on.\n",
        "\n",
        "extend :  similar to append, but with another list. This allows you to concatenate several lists together.\n",
        "\n",
        "remove : searches for the given item in the list and deletes the first occurrence. For example, if you want to delete 5 from your list, you can use :  list.remove(5) .\n",
        "\n",
        "index : this method lets you find the index of the first occurrence of an item to be searched for in our list;\n",
        "\n",
        "Keyword  del  to delete an item according to its index."
      ],
      "metadata": {
        "id": "lDzQvihq-VWa"
      }
    },
    {
      "cell_type": "code",
      "source": [
        "list = []\n",
        "list.append(7) # -> [7]\n",
        "list.append(5) # -> [7, 5]\n",
        "list.insert(1,12) # [7, 12, 5]\n",
        "list[0] = 4 # -> [4, 12, 5]\n",
        "list.remove(12) # [4, 5]\n",
        "list.index(5) # prints 1\n",
        "list.extend([1, 2, 3]) # [4, 5, 1, 2, 3]\n",
        "del list[3] # [4, 5, 1, 3]"
      ],
      "metadata": {
        "id": "UPhNmAuI-aoT"
      },
      "execution_count": null,
      "outputs": []
    },
    {
      "cell_type": "code",
      "source": [
        "list=[10,20,30,40,50,60]\n",
        "list.index(40)\n"
      ],
      "metadata": {
        "colab": {
          "base_uri": "https://localhost:8080/"
        },
        "id": "D8c_J5ne-mU8",
        "outputId": "4741f990-b04a-4e2e-cfca-c41069a464d0"
      },
      "execution_count": null,
      "outputs": [
        {
          "output_type": "execute_result",
          "data": {
            "text/plain": [
              "3"
            ]
          },
          "metadata": {},
          "execution_count": 16
        }
      ]
    },
    {
      "cell_type": "code",
      "source": [
        "del list[2]"
      ],
      "metadata": {
        "id": "hm3l7rZB_BYh"
      },
      "execution_count": null,
      "outputs": []
    },
    {
      "cell_type": "code",
      "source": [
        "list"
      ],
      "metadata": {
        "colab": {
          "base_uri": "https://localhost:8080/"
        },
        "id": "HsdVecot_BL8",
        "outputId": "4f82dcad-9e65-4d2a-d16d-70fab6736536"
      },
      "execution_count": null,
      "outputs": [
        {
          "output_type": "execute_result",
          "data": {
            "text/plain": [
              "[10, 20, 40, 50, 60]"
            ]
          },
          "metadata": {},
          "execution_count": 19
        }
      ]
    },
    {
      "cell_type": "markdown",
      "source": [
        "# Use Dictionaries"
      ],
      "metadata": {
        "id": "2JCZicx5_ZpT"
      }
    },
    {
      "cell_type": "code",
      "source": [
        "accounts = {'Marion Weaver': 10000, 'Alberto Mendoza': 150, 'Katharine Tyler': 300, 'Isaac Steele': 1800.74}\n",
        "print(accounts['Alberto Mendoza']) # -> 150"
      ],
      "metadata": {
        "colab": {
          "base_uri": "https://localhost:8080/"
        },
        "id": "ybulhfyc_a9O",
        "outputId": "5b6bb9d5-237d-4917-deab-4bd394a4f207"
      },
      "execution_count": null,
      "outputs": [
        {
          "output_type": "stream",
          "name": "stdout",
          "text": [
            "150\n"
          ]
        }
      ]
    },
    {
      "cell_type": "markdown",
      "source": [
        "# Manipulate the Items of a Dictionary"
      ],
      "metadata": {
        "id": "PU5Whviw_jwR"
      }
    },
    {
      "cell_type": "markdown",
      "source": [
        "Here are the operations frequently carried out with dictionaries:\n",
        "\n",
        "Access the value of an item\n",
        "\n",
        "Add a new item (a new key-value pair)\n",
        "\n",
        "Delete an item via its key\n",
        "\n",
        "A value can be accessed or modified using the same notation as with lists. With dictionaries, unlike lists, this notation even lets you add items.\n",
        "\n",
        "Let's see this in action in the following example:"
      ],
      "metadata": {
        "id": "mY-ebMZn_o8T"
      }
    },
    {
      "cell_type": "code",
      "source": [
        "accounts['Marion Weaver'] -= 2000 # I subtract 2000 from David's account\n",
        "accounts['Kristian Roach'] = 1000 # I add a new individual in my dictionary\n",
        "print(accounts['Kristian Roach']) # I print the value of Kristian's account"
      ],
      "metadata": {
        "colab": {
          "base_uri": "https://localhost:8080/"
        },
        "id": "bwHYpsaz_oSt",
        "outputId": "48065507-12dc-4c5a-a13b-d2334fc0c141"
      },
      "execution_count": null,
      "outputs": [
        {
          "output_type": "stream",
          "name": "stdout",
          "text": [
            "1000\n"
          ]
        }
      ]
    },
    {
      "cell_type": "markdown",
      "source": [
        "# Finally, you can delete an item via the pop()  method by specifying the key of the item you want to delete."
      ],
      "metadata": {
        "id": "K1K7VCu8_xrB"
      }
    },
    {
      "cell_type": "code",
      "source": [
        "accounts.pop('Alberto Mendoza') # deletes Alberto Mendoza from our dictionary"
      ],
      "metadata": {
        "colab": {
          "base_uri": "https://localhost:8080/"
        },
        "id": "ZETrVl7A_z0G",
        "outputId": "ce599685-9f54-4858-dba2-18b69548ee02"
      },
      "execution_count": null,
      "outputs": [
        {
          "output_type": "execute_result",
          "data": {
            "text/plain": [
              "150"
            ]
          },
          "metadata": {},
          "execution_count": 22
        }
      ]
    },
    {
      "cell_type": "markdown",
      "source": [
        "Finally, in the same way as with lists, you can use the   len()  function to see how your dictionary grows in size:"
      ],
      "metadata": {
        "id": "ygqHxO-L_4XE"
      }
    },
    {
      "cell_type": "code",
      "source": [
        "len(accounts) # -> 3"
      ],
      "metadata": {
        "colab": {
          "base_uri": "https://localhost:8080/"
        },
        "id": "3nPhl11q_6q8",
        "outputId": "3b1f0283-0024-4dd9-97e3-772e910968ff"
      },
      "execution_count": null,
      "outputs": [
        {
          "output_type": "execute_result",
          "data": {
            "text/plain": [
              "4"
            ]
          },
          "metadata": {},
          "execution_count": 23
        }
      ]
    },
    {
      "cell_type": "markdown",
      "source": [
        "# Understand Immutable Tuples"
      ],
      "metadata": {
        "id": "K_dq1DhwDtGH"
      }
    },
    {
      "cell_type": "markdown",
      "source": [
        "The last type of collection we will look at are tuples. These are very similar to lists:\n",
        "\n",
        "They are ordered objects, so we can access the different items stored in a tuple from their index.\n",
        "\n",
        "You can store any kind of object in a tuple.\n",
        "\n",
        "The main difference is that once a tuple has been declared, it cannot be modified. It is then said that it is immutable.\n",
        "\n",
        "We can't modify a tuple? So what's the point of it?!\n",
        "\n",
        "They might not seem to provide much benefit at first sight, but they can be used:\n",
        "\n",
        "when you want to make sure that data is not modified within a program.\n",
        "\n",
        "to return several values from a function. Indeed, we didn't address this point when we talked about functions, but it is possible to return several values... with a tuple!\n",
        "\n",
        "to declare several variables in one line."
      ],
      "metadata": {
        "id": "YVn4dloZDxIf"
      }
    },
    {
      "cell_type": "markdown",
      "source": [
        "# Declare a Tuple"
      ],
      "metadata": {
        "id": "j7FT-RkvDxCm"
      }
    },
    {
      "cell_type": "code",
      "source": [
        "my_tuple = (1, 2, 3, 'a', 'b')"
      ],
      "metadata": {
        "id": "thHzh8jdD6aC"
      },
      "execution_count": 24,
      "outputs": []
    },
    {
      "cell_type": "markdown",
      "source": [
        "# Manipulate Tuples"
      ],
      "metadata": {
        "id": "9DH61c5iD34H"
      }
    },
    {
      "cell_type": "code",
      "source": [
        "print(my_tuple[1]) # -> 2\n",
        "print(my_tuple[4]) # -> 'b'"
      ],
      "metadata": {
        "colab": {
          "base_uri": "https://localhost:8080/"
        },
        "id": "kvz_6pS4EBZY",
        "outputId": "95ae8a5c-76f0-4bba-f41b-981cb844dfcc"
      },
      "execution_count": 25,
      "outputs": [
        {
          "output_type": "stream",
          "name": "stdout",
          "text": [
            "2\n",
            "b\n"
          ]
        }
      ]
    },
    {
      "cell_type": "code",
      "source": [
        "a, b = (1, 'apple')\n",
        "print(a) # -> 1\n",
        "print(b) # -> 'apple'"
      ],
      "metadata": {
        "colab": {
          "base_uri": "https://localhost:8080/"
        },
        "id": "k0-DgjF_EFm2",
        "outputId": "07830284-cefe-498b-872c-3dcb21511390"
      },
      "execution_count": 26,
      "outputs": [
        {
          "output_type": "stream",
          "name": "stdout",
          "text": [
            "1\n",
            "apple\n"
          ]
        }
      ]
    },
    {
      "cell_type": "markdown",
      "source": [
        "![](https://user.oc-static.com/upload/2022/09/15/16632595946084_image24.png)"
      ],
      "metadata": {
        "id": "DGWk73LwEJAG"
      }
    }
  ]
}