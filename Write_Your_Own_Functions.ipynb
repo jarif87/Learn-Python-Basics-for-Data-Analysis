{
  "nbformat": 4,
  "nbformat_minor": 0,
  "metadata": {
    "colab": {
      "provenance": []
    },
    "kernelspec": {
      "name": "python3",
      "display_name": "Python 3"
    },
    "language_info": {
      "name": "python"
    }
  },
  "cells": [
    {
      "cell_type": "markdown",
      "source": [
        "# Discover Functions"
      ],
      "metadata": {
        "id": "aC7vjiJcZjAp"
      }
    },
    {
      "cell_type": "markdown",
      "source": [
        "* During your data analysis, you will regularly have to use groups of statements several times for a very specific purpose. One of the fundamental principles for any computer programmer is to get maximum results for minimum effort (there is even a saying that a good programmer is a lazy programmer!). It is thanks to this somewhat \"lazy\" but very effective principle that the idea of functions came about. Functions can group several statements in a block which will be called using a name."
      ],
      "metadata": {
        "id": "hEgadHiXZnTX"
      }
    },
    {
      "cell_type": "markdown",
      "source": [
        "### Functions are not specific to Python; they are present in all computer languages. They can:\n",
        "\n",
        "* reuse a portion of code already written just by stating the function name—so you don't have to rewrite the whole portion of code each time.\n",
        "\n",
        "* simplify code and make it more readable!"
      ],
      "metadata": {
        "id": "Zj2qf3H0Zrrc"
      }
    },
    {
      "cell_type": "markdown",
      "source": [
        "## There are many pre-existing functions in Python! In addition to those already seen, there are, for example:\n",
        "\n",
        "* len() :  a function that returns the length of an item. Do you remember strings? Using this function on a string tells you how many characters the string contains.\n",
        "\n",
        "* type() : lets you print the type of a variable.\n",
        "\n",
        "* pow(a, b) : lets you calculate a to the power of b. It is equivalent to writing a**b.\n",
        "\n",
        "* abs() :  returns the absolute value of a number."
      ],
      "metadata": {
        "id": "fqS4e1zJZ1pQ"
      }
    },
    {
      "cell_type": "code",
      "execution_count": 14,
      "metadata": {
        "colab": {
          "base_uri": "https://localhost:8080/"
        },
        "id": "B45Q7H5-Ye_e",
        "outputId": "94342ba4-8b2e-4952-82fd-0ce1d2e63f24"
      },
      "outputs": [
        {
          "output_type": "stream",
          "name": "stdout",
          "text": [
            "6\n"
          ]
        }
      ],
      "source": [
        "a=\"banana\"\n",
        "print(len(a))"
      ]
    },
    {
      "cell_type": "code",
      "source": [
        "print(type(a))"
      ],
      "metadata": {
        "colab": {
          "base_uri": "https://localhost:8080/"
        },
        "id": "vIZSmnV6YjFF",
        "outputId": "79079518-0f82-49e4-b27a-78d7a917f2d7"
      },
      "execution_count": 15,
      "outputs": [
        {
          "output_type": "stream",
          "name": "stdout",
          "text": [
            "<class 'str'>\n"
          ]
        }
      ]
    },
    {
      "cell_type": "code",
      "source": [
        "print(pow(3,4))"
      ],
      "metadata": {
        "colab": {
          "base_uri": "https://localhost:8080/"
        },
        "id": "ES6hsI6mYjH_",
        "outputId": "b4e42095-cca7-4de5-e98b-5529f7bdafe4"
      },
      "execution_count": 16,
      "outputs": [
        {
          "output_type": "stream",
          "name": "stdout",
          "text": [
            "81\n"
          ]
        }
      ]
    },
    {
      "cell_type": "code",
      "source": [
        "print(abs(-200))"
      ],
      "metadata": {
        "colab": {
          "base_uri": "https://localhost:8080/"
        },
        "id": "3De5a9DrYjLZ",
        "outputId": "21b4300b-312c-421d-fcfb-9f9fdfa8a6bf"
      },
      "execution_count": 17,
      "outputs": [
        {
          "output_type": "stream",
          "name": "stdout",
          "text": [
            "200\n"
          ]
        }
      ]
    },
    {
      "cell_type": "markdown",
      "source": [
        "# Write Your Own Functions"
      ],
      "metadata": {
        "id": "mfQSh7-CaX0m"
      }
    },
    {
      "cell_type": "markdown",
      "source": [
        "A function is defined via the keyword   def  followed by the name of the function. All the statements associated with this function will then be written after the colon."
      ],
      "metadata": {
        "id": "syBL-9Dqadf7"
      }
    },
    {
      "cell_type": "code",
      "source": [
        "# def functionName():\n",
        "#     # statements\n",
        "#     # that can go\n",
        "#     # on several\n",
        "#     # lines"
      ],
      "metadata": {
        "id": "MNSH2qXBaZq8"
      },
      "execution_count": 18,
      "outputs": []
    },
    {
      "cell_type": "markdown",
      "source": [
        "\n",
        "**Note that all the statements associated with your function are offset in the code: this is called indentation. Python is a block structured language: each group or block of program must be indented. For example, the set of indented statements following the : will only be available in   functionName . Indentation starts the block, and \"de-indentation\" ends it (the first non-indented line will therefore no longer be included in   functionName ).**"
      ],
      "metadata": {
        "id": "pZICSUhralE9"
      }
    },
    {
      "cell_type": "code",
      "source": [
        "def printPerimeter():\n",
        "    dimension1 = 6\n",
        "    dimension2 = 4\n",
        "    dimension3 = 3\n",
        "    perimeter = dimension1 + dimension2 + dimension3\n",
        "    print(perimeter)\n",
        "\n",
        "printPerimeter() # => 13"
      ],
      "metadata": {
        "id": "Wx4Kc8Xvav8T",
        "colab": {
          "base_uri": "https://localhost:8080/"
        },
        "outputId": "d2f6cae3-3683-42e6-cb08-f54a97f1c9a7"
      },
      "execution_count": 19,
      "outputs": [
        {
          "output_type": "stream",
          "name": "stdout",
          "text": [
            "13\n"
          ]
        }
      ]
    },
    {
      "cell_type": "markdown",
      "source": [
        "# Define the Parameters"
      ],
      "metadata": {
        "id": "mXm_Q5-dbEGU"
      }
    },
    {
      "cell_type": "code",
      "source": [
        "def printPerimeter(dimension1, dimension2, dimension3):\n",
        "    perimeter = dimension1 + dimension2 + dimension3\n",
        "    print(perimeter)"
      ],
      "metadata": {
        "id": "-QLoaCy2bH9X"
      },
      "execution_count": 20,
      "outputs": []
    },
    {
      "cell_type": "code",
      "source": [
        "printPerimeter(10, 11, 4) # => 25\n",
        "printPerimeter(2, 2, 3.5) # => 7.5"
      ],
      "metadata": {
        "colab": {
          "base_uri": "https://localhost:8080/"
        },
        "id": "wfjyDSdOgK4_",
        "outputId": "55d5cf94-f0a7-4037-b0db-633ddae8e474"
      },
      "execution_count": 21,
      "outputs": [
        {
          "output_type": "stream",
          "name": "stdout",
          "text": [
            "25\n",
            "7.5\n"
          ]
        }
      ]
    },
    {
      "cell_type": "code",
      "source": [
        "def printPerimeter(dimension1, dimension2, dimension3):\n",
        "    perimeter = dimension1 + dimension2 + dimension3\n",
        "    return perimeter\n",
        "printPerimeter(2, 2, 3.5) "
      ],
      "metadata": {
        "colab": {
          "base_uri": "https://localhost:8080/"
        },
        "id": "CPBfuY-SgPBI",
        "outputId": "974368a2-7e31-491f-eb72-96c58db3c88d"
      },
      "execution_count": 22,
      "outputs": [
        {
          "output_type": "execute_result",
          "data": {
            "text/plain": [
              "7.5"
            ]
          },
          "metadata": {},
          "execution_count": 22
        }
      ]
    },
    {
      "cell_type": "code",
      "source": [
        "# Using returnPerimeter function\n",
        "def returnPerimeter(dimension1, dimension2, dimension3):\n",
        "    perimeter = dimension1 + dimension2 + dimension3\n",
        "    return perimeter\n",
        "\n",
        "result = returnPerimeter(2, 3, 4)\n",
        "print(result) # prints 9 to console\n",
        "\n",
        "# Using the result in further calculations\n",
        "area = result * 2\n",
        "print(area) # prints 18 to console"
      ],
      "metadata": {
        "colab": {
          "base_uri": "https://localhost:8080/"
        },
        "id": "YaWZkzvwg2HB",
        "outputId": "634a3726-07e5-40fd-e9c1-3fc3d5abb3c0"
      },
      "execution_count": 23,
      "outputs": [
        {
          "output_type": "stream",
          "name": "stdout",
          "text": [
            "9\n",
            "18\n"
          ]
        }
      ]
    },
    {
      "cell_type": "markdown",
      "source": [
        "# Define a Return Value"
      ],
      "metadata": {
        "id": "O1gW0N48hAUK"
      }
    },
    {
      "cell_type": "markdown",
      "source": [
        "To define a return value, you must explicitly use the return keyword at the end of your function.\n",
        "\n",
        "You could change your   printPerimeter  function into   calculatePerimeter  which will return the perimeter of a triangle, according to the length of its three sides, so that it can be reused afterwards:**"
      ],
      "metadata": {
        "id": "A39i6yYxhD1d"
      }
    },
    {
      "cell_type": "code",
      "source": [
        "def calculatePerimeter(dimension1, dimension2, dimension3):\n",
        "    perimeter = dimension1 + dimension2 + dimension3\n",
        "    return perimeter"
      ],
      "metadata": {
        "id": "cOT3Eknrg5F3"
      },
      "execution_count": 24,
      "outputs": []
    },
    {
      "cell_type": "code",
      "source": [
        "perimeter1 = calculatePerimeter(6, 4, 3)\n",
        "perimeter2 = calculatePerimeter(10, 3, 11)\n",
        "\n",
        "print(\"The perimeter of my first triangle is\", perimeter1, \"and that of my second is\", perimeter2)"
      ],
      "metadata": {
        "colab": {
          "base_uri": "https://localhost:8080/"
        },
        "id": "sOfB3yWphLve",
        "outputId": "b18979fe-7be9-4111-ab65-06d4eaf41ed6"
      },
      "execution_count": 25,
      "outputs": [
        {
          "output_type": "stream",
          "name": "stdout",
          "text": [
            "The perimeter of my first triangle is 13 and that of my second is 24\n"
          ]
        }
      ]
    },
    {
      "cell_type": "markdown",
      "source": [
        "# Use the Help Function if You Forget"
      ],
      "metadata": {
        "id": "9IxcSEt7hqra"
      }
    },
    {
      "cell_type": "markdown",
      "source": [
        "In your experience in data analysis, you will often remember the name of a function, but not necessarily what it does or its arguments, etc. Don't panic! The   help  function is there for that! If you run   help(functionName) , this will print the documentation of this function, summarizing:\n",
        "\n",
        "* its purpose.\n",
        "\n",
        "* recommendations for use.\n",
        "\n",
        "* the list and description of the parameters.\n",
        "\n",
        "* sometimes even examples.\n",
        "\n",
        "* Here is an example with the power function (pow) seen above:"
      ],
      "metadata": {
        "id": "3-6LfHPihu-X"
      }
    },
    {
      "cell_type": "markdown",
      "source": [
        "![](https://user.oc-static.com/upload/2022/09/15/16632581991111_image33.png)"
      ],
      "metadata": {
        "id": "0XaPg3D6h37P"
      }
    }
  ]
}