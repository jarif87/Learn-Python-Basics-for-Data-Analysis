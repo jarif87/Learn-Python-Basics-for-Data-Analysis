{
  "nbformat": 4,
  "nbformat_minor": 0,
  "metadata": {
    "colab": {
      "provenance": []
    },
    "kernelspec": {
      "name": "python3",
      "display_name": "Python 3"
    },
    "language_info": {
      "name": "python"
    }
  },
  "cells": [
    {
      "cell_type": "markdown",
      "source": [
        "# Print Information if Available"
      ],
      "metadata": {
        "id": "BQ6jG--EBSLD"
      }
    },
    {
      "cell_type": "markdown",
      "source": [
        "When you start your program, you do not necessarily know the name of the user in advance. How about a program that can:\n",
        "\n",
        "say hello to a particular user, if you know their name...\n",
        "\n",
        "if not, continue to say hello to everyone?\n",
        "\n",
        "Here is your first condition, which will let you build your first conditional structure.\n",
        "\n",
        "How can you get a person's name in the first place?\n",
        "\n",
        "Do you remember functions? Yes, you worked it out, you can do this via a function: the  input  function. This will ask the notebook user (in other words... you!) to enter a string which will then be stored in a variable.\n",
        "\n",
        "Let's look at an example:"
      ],
      "metadata": {
        "id": "-KDuf6jsBR-P"
      }
    },
    {
      "cell_type": "markdown",
      "source": [
        "![](https://user.oc-static.com/upload/2022/09/15/16632597941249_image2.png)"
      ],
      "metadata": {
        "id": "18jyb9C8Bg2b"
      }
    },
    {
      "cell_type": "markdown",
      "source": [
        "You have a space to answer the question and your answer will be stored as a string in the   username  variable.\n",
        "\n",
        "Now design the code that will let you say hello to your user:"
      ],
      "metadata": {
        "id": "9n4CsQNnBoTe"
      }
    },
    {
      "cell_type": "markdown",
      "source": [
        "* Ask the user their name and store their answer in a variable:   name .\n",
        "\n",
        "* Check that the  name  variable definitely contains a value (in case the user doesn't give an answer). The   len  function will help you to perform this task!\n",
        "\n",
        "* If this is the case, say Hello to your user with their name.\n",
        "\n",
        "* Otherwise, keep saying Hello to the world. "
      ],
      "metadata": {
        "id": "-vuJdSrBBsbJ"
      }
    },
    {
      "cell_type": "code",
      "execution_count": 1,
      "metadata": {
        "colab": {
          "base_uri": "https://localhost:8080/"
        },
        "id": "94xhcCKzA2d4",
        "outputId": "f5f2dc4d-5589-4e77-8809-c83b5677aa80"
      },
      "outputs": [
        {
          "output_type": "stream",
          "name": "stdout",
          "text": [
            "What is your name, dear stranger?bangladesh\n",
            "Hello bangladesh !\n"
          ]
        }
      ],
      "source": [
        "name = input( 'What is your name, dear stranger?')\n",
        "\n",
        "if len(name) > 0:\n",
        "    print(\"Hello\", name, \"!\")\n",
        "else:\n",
        "    print(\"Hello, world!\")"
      ]
    },
    {
      "cell_type": "markdown",
      "source": [
        "# Use Booleans: The No-Half-Measure Type"
      ],
      "metadata": {
        "id": "urqNlrkfCVXl"
      }
    },
    {
      "cell_type": "markdown",
      "source": [
        "In Python, to validate a condition, you use a special type (or object :) ) called boolean. A Boolean variable can only contain two values: True or False. It's actually a pretty simple thing, but oh so useful!\n",
        "\n",
        "In Python, the boolean can take the values True and False. Now see how to declare booleans in Python:"
      ],
      "metadata": {
        "id": "Wi2sPTvoCZU0"
      }
    },
    {
      "cell_type": "code",
      "source": [
        "thisCourseIsGreat = True\n",
        "itsAuthorIsVeryHumble = False"
      ],
      "metadata": {
        "id": "mFYLBur-CdyX"
      },
      "execution_count": 2,
      "outputs": []
    },
    {
      "cell_type": "markdown",
      "source": [
        "Easy, right?\n",
        "\n",
        "To get back to your if conditional structure, I think you'll understand, but it's absolutely necessary that what follows the if keyword results in a boolean. This can be done via:\n",
        "\n",
        "a    True  or   False  value. For example,   if True : .\n",
        "\n",
        "a boolean variable. For example,   if myVariable:  where   myVariable  is a boolean.\n",
        "\n",
        "an expression that results in a boolean value, as in the example above."
      ],
      "metadata": {
        "id": "OSQV9SAlCi_R"
      }
    },
    {
      "cell_type": "code",
      "source": [
        "weather = \"The weather is great!\"\n",
        "weather.startswith(\"The weather\") # -> True"
      ],
      "metadata": {
        "colab": {
          "base_uri": "https://localhost:8080/"
        },
        "id": "JJlgmV3DCkRe",
        "outputId": "479deb65-3fec-47a2-db77-0ab87df9cc3f"
      },
      "execution_count": 3,
      "outputs": [
        {
          "output_type": "execute_result",
          "data": {
            "text/plain": [
              "True"
            ]
          },
          "metadata": {},
          "execution_count": 3
        }
      ]
    },
    {
      "cell_type": "markdown",
      "source": [
        "startswith  is a method of the string class, which returns   True  when the string starts exactly with the string passed as a parameter;  False , if not. For example, you could use this expression to perform an action if a sentence begins with a particular word.\n",
        "\n",
        "To produce Booleans, you can also use comparison operators."
      ],
      "metadata": {
        "id": "9hBhjvvXCuNp"
      }
    },
    {
      "cell_type": "markdown",
      "source": [
        "# Comparison Operators"
      ],
      "metadata": {
        "id": "o8XJPAnjCx2k"
      }
    },
    {
      "cell_type": "markdown",
      "source": [
        "As the name suggests, comparison operators are used to compare two values. There are six main ones:\n",
        "\n",
        "* ==  equal to (two values are exactly the same)\n",
        "\n",
        "* !=  different from\n",
        "\n",
        "* <  less than\n",
        "\n",
        "* <=  less than or equal to\n",
        "\n",
        "* (>  greater than\n",
        "\n",
        "* (>=  greater than or equal to"
      ],
      "metadata": {
        "id": "pC09GCGACzuu"
      }
    },
    {
      "cell_type": "code",
      "source": [
        "2 == 2 # -> True\n",
        "2 == 3 # -> False\n",
        "4 != 4 # -> False\n",
        "4!= 5 # -> True\n",
        "1 < 2 # -> True\n",
        "1 < 1 # -> False\n",
        "1 <= 1 # -> True\n",
        "3 > 4 # -> False\n",
        "5 > 4 # -> True\n",
        "5 >= 4 # -> True"
      ],
      "metadata": {
        "colab": {
          "base_uri": "https://localhost:8080/"
        },
        "id": "cUXV3ZKmCvmO",
        "outputId": "49209b14-573a-4dd1-c13c-5ffeab2dd75f"
      },
      "execution_count": 4,
      "outputs": [
        {
          "output_type": "execute_result",
          "data": {
            "text/plain": [
              "True"
            ]
          },
          "metadata": {},
          "execution_count": 4
        }
      ]
    },
    {
      "cell_type": "code",
      "source": [
        "# age=15\n",
        "\n",
        "# if age>=21:\n",
        "#     # Do something if age is greater than or equal to 21"
      ],
      "metadata": {
        "id": "ZO83KbS0DGsr"
      },
      "execution_count": null,
      "outputs": []
    },
    {
      "cell_type": "markdown",
      "source": [
        "# Logical Operators"
      ],
      "metadata": {
        "id": "iEhOnGHKDM_q"
      }
    },
    {
      "cell_type": "markdown",
      "source": [
        "These operators will let you mix several Boolean values: specific Boolean values or expression results. There are three of them:\n",
        "\n",
        "and : the AND operator.\n",
        "The final result is true only when all expressions/values are true. For example: the result of  expression1 and expression2  will be True only if   expression1  is true AND expression2  is also true.\n",
        "\n",
        "or : the OR operator.\n",
        "The final result is true when at least one of the expressions/values is true. For example: the result of  expression1  or  expression2   will be at True if   expression1  is true OR expression2  is true.\n",
        "\n",
        "not : the NOT operator.\n",
        "This simply reverses the result of the given expression. For example, the result of   not(expression)  is true when   expression  is false."
      ],
      "metadata": {
        "id": "PNAj58x0DR6R"
      }
    },
    {
      "cell_type": "code",
      "source": [
        "True and True # True\n",
        "True and False # False\n",
        "False and False # False\n",
        "True or False # True\n",
        "True or True # True\n",
        "False or False # False\n",
        "not(True) # False\n",
        "not(False) # True"
      ],
      "metadata": {
        "colab": {
          "base_uri": "https://localhost:8080/"
        },
        "id": "p8wqrbkeDTOZ",
        "outputId": "358318ce-99d8-43c5-b00a-ccca01197ea6"
      },
      "execution_count": 5,
      "outputs": [
        {
          "output_type": "execute_result",
          "data": {
            "text/plain": [
              "True"
            ]
          },
          "metadata": {},
          "execution_count": 5
        }
      ]
    },
    {
      "cell_type": "code",
      "source": [
        "True and False"
      ],
      "metadata": {
        "colab": {
          "base_uri": "https://localhost:8080/"
        },
        "id": "VTQq36sGDaEv",
        "outputId": "091c9308-efcb-49c2-aa2d-c48cb49a3a75"
      },
      "execution_count": 6,
      "outputs": [
        {
          "output_type": "execute_result",
          "data": {
            "text/plain": [
              "False"
            ]
          },
          "metadata": {},
          "execution_count": 6
        }
      ]
    },
    {
      "cell_type": "code",
      "source": [
        "True and True and True # True\n",
        "True and True and False # False\n",
        "True or False or False # True\n",
        "False or False or True # False"
      ],
      "metadata": {
        "colab": {
          "base_uri": "https://localhost:8080/"
        },
        "id": "fwURdfDjDh_f",
        "outputId": "766d20ef-4b98-4003-d47d-acdac84954fe"
      },
      "execution_count": 7,
      "outputs": [
        {
          "output_type": "execute_result",
          "data": {
            "text/plain": [
              "True"
            ]
          },
          "metadata": {},
          "execution_count": 7
        }
      ]
    },
    {
      "cell_type": "code",
      "source": [
        "False or False or True"
      ],
      "metadata": {
        "colab": {
          "base_uri": "https://localhost:8080/"
        },
        "id": "wd9x7_xPDllm",
        "outputId": "b07b586a-9642-4d0a-c2f1-f2a4df86c40d"
      },
      "execution_count": 8,
      "outputs": [
        {
          "output_type": "execute_result",
          "data": {
            "text/plain": [
              "True"
            ]
          },
          "metadata": {},
          "execution_count": 8
        }
      ]
    },
    {
      "cell_type": "code",
      "source": [
        "False or True and True # True\n",
        "not(False) and True or False # True"
      ],
      "metadata": {
        "colab": {
          "base_uri": "https://localhost:8080/"
        },
        "id": "gR-hbLYsDtoj",
        "outputId": "aa8b4833-d57b-4bee-fc42-c74a48869931"
      },
      "execution_count": 9,
      "outputs": [
        {
          "output_type": "execute_result",
          "data": {
            "text/plain": [
              "True"
            ]
          },
          "metadata": {},
          "execution_count": 9
        }
      ]
    },
    {
      "cell_type": "code",
      "source": [
        "(True and False) or True # True\n",
        "not(True and False or not(True)) # True"
      ],
      "metadata": {
        "colab": {
          "base_uri": "https://localhost:8080/"
        },
        "id": "3VthbWwqD4YE",
        "outputId": "dafab11f-4854-4934-852d-f9421cd1d722"
      },
      "execution_count": 10,
      "outputs": [
        {
          "output_type": "execute_result",
          "data": {
            "text/plain": [
              "True"
            ]
          },
          "metadata": {},
          "execution_count": 10
        }
      ]
    },
    {
      "cell_type": "code",
      "source": [
        "True and False or not(True)"
      ],
      "metadata": {
        "colab": {
          "base_uri": "https://localhost:8080/"
        },
        "id": "Mm1ot3jSD7VC",
        "outputId": "0d3f24a6-1b7c-4cda-d2e9-b1e42441b878"
      },
      "execution_count": 11,
      "outputs": [
        {
          "output_type": "execute_result",
          "data": {
            "text/plain": [
              "False"
            ]
          },
          "metadata": {},
          "execution_count": 11
        }
      ]
    },
    {
      "cell_type": "markdown",
      "source": [
        "The general form of a conditional if structure is   if condition:  where the condition can be either a boolean, or a variable of boolean type, or the result of an expression leading to a boolean result.\n",
        "\n",
        "The  in  Operator\n",
        "Another useful logical operator in Python is the   in  operator. This returns   True  when a value is found in a sequence (a string or a list);  False , if not."
      ],
      "metadata": {
        "id": "axIMBX6sEUsT"
      }
    },
    {
      "cell_type": "code",
      "source": [
        "myList = [4, 2, 3, 2, 10]\n",
        "myStringList = [\"a\", \"b\", \"c\", \"d\"]\n",
        "myString = \"The weather is really good today!\"\n",
        "\n",
        "4 in myList # True\n",
        "0 in myList # False\n",
        "0 in myStringList # False\n",
        "\"c\" in myStringList # True\n",
        "\"e\" in myStringList # False\n",
        "\"weather\" in myString # True\n",
        "\"really\" in myString # True\n",
        "\"rain?\" in myString # False"
      ],
      "metadata": {
        "colab": {
          "base_uri": "https://localhost:8080/"
        },
        "id": "chxnR_K5EGCv",
        "outputId": "d451ae48-f232-4bb1-f524-0c615197bd0b"
      },
      "execution_count": 14,
      "outputs": [
        {
          "output_type": "execute_result",
          "data": {
            "text/plain": [
              "False"
            ]
          },
          "metadata": {},
          "execution_count": 14
        }
      ]
    },
    {
      "cell_type": "markdown",
      "source": [
        "# Manage a Chain of Conditions"
      ],
      "metadata": {
        "id": "k7qH-B4-FHIG"
      }
    },
    {
      "cell_type": "code",
      "source": [
        "account = input(\"What is your account balance?\")\n",
        "account = int(account) # transform the answer into an integer\n",
        "\n",
        "if account >= 10000:\n",
        "    print(\"Loan granted!\")\n",
        "elif account >= 100 and account < 10000:\n",
        "    print(\"Loan in process of validation: under study\")\n",
        "else:\n",
        "    print(\"Loan refused\")"
      ],
      "metadata": {
        "colab": {
          "base_uri": "https://localhost:8080/"
        },
        "id": "vLtdW2GZFIsd",
        "outputId": "2f5c5f29-2697-4b5e-d106-8624bd134cd3"
      },
      "execution_count": 17,
      "outputs": [
        {
          "output_type": "stream",
          "name": "stdout",
          "text": [
            "What is your account balance?20000\n",
            "Loan granted!\n"
          ]
        }
      ]
    }
  ]
}