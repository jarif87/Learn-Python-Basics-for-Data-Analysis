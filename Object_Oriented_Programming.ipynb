{
  "nbformat": 4,
  "nbformat_minor": 0,
  "metadata": {
    "colab": {
      "provenance": []
    },
    "kernelspec": {
      "name": "python3",
      "display_name": "Python 3"
    },
    "language_info": {
      "name": "python"
    }
  },
  "cells": [
    {
      "cell_type": "markdown",
      "source": [
        "### Python is an object-oriented programming language—this means that in Python, everything is an object! In this chapter, you will see what this means and how you can use it in a practical way. Start by looking at a few objects from everyday life, such as pens, books, smartphones, computers, etc."
      ],
      "metadata": {
        "id": "xG93WlxrlC94"
      }
    },
    {
      "cell_type": "markdown",
      "source": [
        "**Objects can have many different shapes and characteristics, but you can classify different versions of the same object into a category or group. That's why it's easy to recognize a chair in a store, for example, although its appearance (shape, color, etc.) can vary greatly from one model to another.**\n",
        "\n",
        "**It is by observing the common points between different objects that you are able, mentally, to classify the objects in the same group or category!**\n",
        "\n",
        "```For example, there are different types of books, but they all have a title, an author, a back cover, etc. All books share different attributes that let you classify them in a well-identified category: books.```"
      ],
      "metadata": {
        "id": "mT-HnmW1lKCI"
      }
    },
    {
      "cell_type": "markdown",
      "source": [
        "# Focus on Methods"
      ],
      "metadata": {
        "id": "0oVePWrAlixV"
      }
    },
    {
      "cell_type": "markdown",
      "source": [
        "As we said before, in Python, everything is an object. This means that, without knowing it, since the beginning of this course, you have been manipulating objects! Consider the following lines of code to illustrate this:"
      ],
      "metadata": {
        "id": "3Ap9XzaSlopj"
      }
    },
    {
      "cell_type": "code",
      "execution_count": 1,
      "metadata": {
        "id": "Mc_QBqqnjlC6"
      },
      "outputs": [],
      "source": [
        "var1 = 14\n",
        "var2 = 1031"
      ]
    },
    {
      "cell_type": "markdown",
      "source": [
        "* Here, you have declared two variables named  var1  and  var2  containing the values 14 and 1,031. In reality, you have created two instances of the int class, two objects each with a single attribute: its value. The same is true for floats or strings: every time you create a variable of one of these types, you are actually creating objects in Python with the value you assign to them as an attribute.\n",
        "\n",
        "* Up until now, we have talked about attributes, so now it is time to see what methods are. A class method is a function that is only available for the instances of this class. If, for example, we consider the Car class presented above having a drive() method, and a Plane class having a fly() method, you will agree quite logically that a plane can’t drive, and a car can’t fly. The same goes for our various objects!\n",
        "\n",
        "* The use of a method is always done via the   variableName.method()  notation. For example, strings have a method called   lower()  which will transform all the text contained in an object into lower case. Here's how to use it:"
      ],
      "metadata": {
        "id": "xIi-56VAlwDm"
      }
    },
    {
      "cell_type": "markdown",
      "source": [
        "![](https://user.oc-static.com/upload/2022/10/10/16653869897075_P2C4.png)"
      ],
      "metadata": {
        "id": "6z8trkdIl3Ab"
      }
    },
    {
      "cell_type": "markdown",
      "source": [
        "# String Methods"
      ],
      "metadata": {
        "id": "_jWn9uyCl52E"
      }
    },
    {
      "cell_type": "markdown",
      "source": [
        "During the various data analyses that you will have to perform, you will inevitably be confronted with textual variables at some point. You have already seen how to change your string to lowercase, but you may also need to replace some specific words, format the text in a certain way, etc.\n",
        "\n",
        "Python has implemented many methods to allow us to do all this. Here are the most common ones:"
      ],
      "metadata": {
        "id": "L6CEnrk4mB3y"
      }
    },
    {
      "cell_type": "markdown",
      "source": [
        "* upper() :  returns the whole text in upper case.\n",
        "\n",
        "* capitalize() :  returns the whole text in lowercase with the first letter capitalized.\n",
        "\n",
        "* replace(old, new) :  this method takes two arguments: old and new, both of which are strings.  The method returns the original string with all occurrences of old replaced with new. \n",
        "\n",
        "* find(string)  returns either the index of the first occurrence of the string passed in the  argument, or -1 if it does not find it.\n",
        "\n",
        "### Here are some examples of how these methods are used:"
      ],
      "metadata": {
        "id": "fxq88j5GmGpj"
      }
    },
    {
      "cell_type": "markdown",
      "source": [
        "![](https://user.oc-static.com/upload/2022/09/15/16632585703647_image1.png)"
      ],
      "metadata": {
        "id": "tRPBdLewmsVq"
      }
    },
    {
      "cell_type": "code",
      "source": [
        "text=\"here is an EXAMPLE of a STRING\"\n",
        "text.lower()"
      ],
      "metadata": {
        "colab": {
          "base_uri": "https://localhost:8080/",
          "height": 36
        },
        "id": "cZ2cBV43mMd5",
        "outputId": "fd9474c0-6d3c-414b-f4ef-379a53d52905"
      },
      "execution_count": 3,
      "outputs": [
        {
          "output_type": "execute_result",
          "data": {
            "text/plain": [
              "'here is an example of a string'"
            ],
            "application/vnd.google.colaboratory.intrinsic+json": {
              "type": "string"
            }
          },
          "metadata": {},
          "execution_count": 3
        }
      ]
    },
    {
      "cell_type": "code",
      "source": [
        "text.upper()"
      ],
      "metadata": {
        "colab": {
          "base_uri": "https://localhost:8080/",
          "height": 36
        },
        "id": "E84Xd_d2mnsg",
        "outputId": "dc7acdf6-60f5-44f7-e725-58e3341f215c"
      },
      "execution_count": 4,
      "outputs": [
        {
          "output_type": "execute_result",
          "data": {
            "text/plain": [
              "'HERE IS AN EXAMPLE OF A STRING'"
            ],
            "application/vnd.google.colaboratory.intrinsic+json": {
              "type": "string"
            }
          },
          "metadata": {},
          "execution_count": 4
        }
      ]
    },
    {
      "cell_type": "code",
      "source": [
        "print(text.capitalize())"
      ],
      "metadata": {
        "colab": {
          "base_uri": "https://localhost:8080/"
        },
        "id": "bVrFR3qYmzXw",
        "outputId": "d4980d4b-7912-4603-80e7-58f4e50fca37"
      },
      "execution_count": 6,
      "outputs": [
        {
          "output_type": "stream",
          "name": "stdout",
          "text": [
            "Here is an example of a string\n"
          ]
        }
      ]
    },
    {
      "cell_type": "code",
      "source": [
        "print(text.replace(\"EXAMPLE\",\"test\"))"
      ],
      "metadata": {
        "colab": {
          "base_uri": "https://localhost:8080/"
        },
        "id": "Jv_kc5nOm7gR",
        "outputId": "82589cbc-45d5-4a6c-c821-3f47511b828d"
      },
      "execution_count": 7,
      "outputs": [
        {
          "output_type": "stream",
          "name": "stdout",
          "text": [
            "here is an test of a STRING\n"
          ]
        }
      ]
    },
    {
      "cell_type": "code",
      "source": [
        "print(text.find(\"an\"))"
      ],
      "metadata": {
        "colab": {
          "base_uri": "https://localhost:8080/"
        },
        "id": "iwvguAsanHt7",
        "outputId": "948f724a-a237-4aad-e01b-f95d13f42b2c"
      },
      "execution_count": 8,
      "outputs": [
        {
          "output_type": "stream",
          "name": "stdout",
          "text": [
            "8\n"
          ]
        }
      ]
    },
    {
      "cell_type": "code",
      "source": [
        "print(text.find(\"two\"))"
      ],
      "metadata": {
        "colab": {
          "base_uri": "https://localhost:8080/"
        },
        "id": "lPlDQdginQ8P",
        "outputId": "7908d869-4b5a-4eb0-c1e2-218b2eacea8a"
      },
      "execution_count": 9,
      "outputs": [
        {
          "output_type": "stream",
          "name": "stdout",
          "text": [
            "-1\n"
          ]
        }
      ]
    }
  ]
}